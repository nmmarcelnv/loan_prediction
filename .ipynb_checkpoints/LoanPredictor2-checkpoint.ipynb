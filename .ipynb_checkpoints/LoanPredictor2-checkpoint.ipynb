{
 "cells": [
  {
   "cell_type": "markdown",
   "metadata": {},
   "source": [
    "## Loan Prediction with Python "
   ]
  },
  {
   "cell_type": "markdown",
   "metadata": {},
   "source": [
    "This tutorial is based on the course [Loan Prediction with Python](https://www.analyticsvidhya.com/blog/2018/07/learn-and-test-your-machine-learning-skills-with-avs-new-practice-problems-and-free-courses/?utm_source=feedburner&utm_medium=email&utm_campaign=Feed%3A+AnalyticsVidhya+%28Analytics+Vidhya%29)"
   ]
  },
  {
   "cell_type": "markdown",
   "metadata": {},
   "source": [
    "### 1. Problem statement"
   ]
  },
  {
   "cell_type": "markdown",
   "metadata": {},
   "source": [
    "> *Dream Housing Finance company deals in all home loans. They have presence across all urban, semi urban and rural areas. Customer first apply for home loan after that company validates the customer eligibility for loan. Company wants to automate the loan eligibility process (real time) based on customer detail provided while filling online application form. These details are Gender, Marital Status, Education, Number of Dependents, Income, Loan Amount, Credit History and others. To automate this process, they have given a problem to identify the customers segments, those are eligible for loan amount so that they can specifically target these customers.*\n",
    "***\n",
    "***From the above statement, we understand that the goal is to predict which loan applicants will be approved***"
   ]
  },
  {
   "cell_type": "markdown",
   "metadata": {},
   "source": [
    "### 2. Generating Hypotheses  "
   ]
  },
  {
   "cell_type": "markdown",
   "metadata": {},
   "source": [
    "A crucial step in any model building is to generate a set of hypotheses. Just like [hypothesis testing](http://www.statisticshowto.com/probability-and-statistics/hypothesis-testing/) in statistics, it's important that this be done prior to diving into the data. So we may ask **How would a customer details affect loan approval?**\n",
    "Here are my own hypotheses:   \n",
    "> - Married people would have a higher chance of being approved compared to single applicants.  \n",
    "- Approval probability will increase with the level of education and with higher credit score.  \n",
    "- The higher in income, the higher the probability of being approved for a loan.  \n",
    "- Approval probability will decrease with the loan amount.  \n",
    "- There will be an age group dependence:   \n",
    "    - Apporval probability for people in their early 20's will be lower than people in their 30's-40's.\n",
    "    - Old and retired people will have a lower chance of approval.\n",
    "- People who possess other assets such as bussinesses may have higher chance of approval.\n",
    "- Certain people such as government employees may be considered to have more stable job(income), hence greater chance of approval compared to others such as contractors."
   ]
  },
  {
   "cell_type": "markdown",
   "metadata": {},
   "source": [
    "### Import Libraries"
   ]
  },
  {
   "cell_type": "code",
   "execution_count": 1,
   "metadata": {},
   "outputs": [],
   "source": [
    "import pandas as pd\n",
    "import numpy as np                     \n",
    "import seaborn as sns     \n",
    "\n",
    "import matplotlib.pyplot as plt        \n",
    "%matplotlib inline\n",
    "\n",
    "from IPython.core.interactiveshell import InteractiveShell\n",
    "InteractiveShell.ast_node_interactivity = \"last_expr\"\n",
    "pd.options.display.max_columns = 50\n",
    "\n",
    "import warnings                        \n",
    "warnings.filterwarnings(\"ignore\")"
   ]
  },
  {
   "cell_type": "markdown",
   "metadata": {},
   "source": [
    "### Load The Data"
   ]
  },
  {
   "cell_type": "code",
   "execution_count": 2,
   "metadata": {
    "scrolled": false
   },
   "outputs": [
    {
     "data": {
      "text/html": [
       "<div>\n",
       "<style scoped>\n",
       "    .dataframe tbody tr th:only-of-type {\n",
       "        vertical-align: middle;\n",
       "    }\n",
       "\n",
       "    .dataframe tbody tr th {\n",
       "        vertical-align: top;\n",
       "    }\n",
       "\n",
       "    .dataframe thead th {\n",
       "        text-align: right;\n",
       "    }\n",
       "</style>\n",
       "<table border=\"1\" class=\"dataframe\">\n",
       "  <thead>\n",
       "    <tr style=\"text-align: right;\">\n",
       "      <th></th>\n",
       "      <th>Loan_ID</th>\n",
       "      <th>Gender</th>\n",
       "      <th>Married</th>\n",
       "      <th>Dependents</th>\n",
       "      <th>Education</th>\n",
       "      <th>Self_Employed</th>\n",
       "      <th>ApplicantIncome</th>\n",
       "      <th>CoapplicantIncome</th>\n",
       "      <th>LoanAmount</th>\n",
       "      <th>Loan_Amount_Term</th>\n",
       "      <th>Credit_History</th>\n",
       "      <th>Property_Area</th>\n",
       "      <th>Loan_Status</th>\n",
       "    </tr>\n",
       "  </thead>\n",
       "  <tbody>\n",
       "    <tr>\n",
       "      <th>0</th>\n",
       "      <td>LP001002</td>\n",
       "      <td>Male</td>\n",
       "      <td>No</td>\n",
       "      <td>0</td>\n",
       "      <td>Graduate</td>\n",
       "      <td>No</td>\n",
       "      <td>5849</td>\n",
       "      <td>0.0</td>\n",
       "      <td>NaN</td>\n",
       "      <td>360.0</td>\n",
       "      <td>1.0</td>\n",
       "      <td>Urban</td>\n",
       "      <td>Y</td>\n",
       "    </tr>\n",
       "    <tr>\n",
       "      <th>1</th>\n",
       "      <td>LP001003</td>\n",
       "      <td>Male</td>\n",
       "      <td>Yes</td>\n",
       "      <td>1</td>\n",
       "      <td>Graduate</td>\n",
       "      <td>No</td>\n",
       "      <td>4583</td>\n",
       "      <td>1508.0</td>\n",
       "      <td>128.0</td>\n",
       "      <td>360.0</td>\n",
       "      <td>1.0</td>\n",
       "      <td>Rural</td>\n",
       "      <td>N</td>\n",
       "    </tr>\n",
       "    <tr>\n",
       "      <th>2</th>\n",
       "      <td>LP001005</td>\n",
       "      <td>Male</td>\n",
       "      <td>Yes</td>\n",
       "      <td>0</td>\n",
       "      <td>Graduate</td>\n",
       "      <td>Yes</td>\n",
       "      <td>3000</td>\n",
       "      <td>0.0</td>\n",
       "      <td>66.0</td>\n",
       "      <td>360.0</td>\n",
       "      <td>1.0</td>\n",
       "      <td>Urban</td>\n",
       "      <td>Y</td>\n",
       "    </tr>\n",
       "    <tr>\n",
       "      <th>3</th>\n",
       "      <td>LP001006</td>\n",
       "      <td>Male</td>\n",
       "      <td>Yes</td>\n",
       "      <td>0</td>\n",
       "      <td>Not Graduate</td>\n",
       "      <td>No</td>\n",
       "      <td>2583</td>\n",
       "      <td>2358.0</td>\n",
       "      <td>120.0</td>\n",
       "      <td>360.0</td>\n",
       "      <td>1.0</td>\n",
       "      <td>Urban</td>\n",
       "      <td>Y</td>\n",
       "    </tr>\n",
       "    <tr>\n",
       "      <th>4</th>\n",
       "      <td>LP001008</td>\n",
       "      <td>Male</td>\n",
       "      <td>No</td>\n",
       "      <td>0</td>\n",
       "      <td>Graduate</td>\n",
       "      <td>No</td>\n",
       "      <td>6000</td>\n",
       "      <td>0.0</td>\n",
       "      <td>141.0</td>\n",
       "      <td>360.0</td>\n",
       "      <td>1.0</td>\n",
       "      <td>Urban</td>\n",
       "      <td>Y</td>\n",
       "    </tr>\n",
       "  </tbody>\n",
       "</table>\n",
       "</div>"
      ],
      "text/plain": [
       "    Loan_ID Gender Married Dependents     Education Self_Employed  \\\n",
       "0  LP001002   Male      No          0      Graduate            No   \n",
       "1  LP001003   Male     Yes          1      Graduate            No   \n",
       "2  LP001005   Male     Yes          0      Graduate           Yes   \n",
       "3  LP001006   Male     Yes          0  Not Graduate            No   \n",
       "4  LP001008   Male      No          0      Graduate            No   \n",
       "\n",
       "   ApplicantIncome  CoapplicantIncome  LoanAmount  Loan_Amount_Term  \\\n",
       "0             5849                0.0         NaN             360.0   \n",
       "1             4583             1508.0       128.0             360.0   \n",
       "2             3000                0.0        66.0             360.0   \n",
       "3             2583             2358.0       120.0             360.0   \n",
       "4             6000                0.0       141.0             360.0   \n",
       "\n",
       "   Credit_History Property_Area Loan_Status  \n",
       "0             1.0         Urban           Y  \n",
       "1             1.0         Rural           N  \n",
       "2             1.0         Urban           Y  \n",
       "3             1.0         Urban           Y  \n",
       "4             1.0         Urban           Y  "
      ]
     },
     "execution_count": 2,
     "metadata": {},
     "output_type": "execute_result"
    }
   ],
   "source": [
    "#parse the data into pandas dataframes\n",
    "loan_train = pd.read_csv('data/train_u6lujuX_CVtuZ9i.csv')\n",
    "loan_test = pd.read_csv('data/test_Y3wMUE5_7gLdaTN.csv') \n",
    "\n",
    "#make a safe copy of dataframes\n",
    "loan_train_original = loan_train.copy()\n",
    "loan_test_original = loan_test.copy()\n",
    "train_id = loan_train.Loan_ID\n",
    "test_id = loan_test.Loan_ID\n",
    "labels = loan_train.Loan_Status\n",
    "loan_train.head()"
   ]
  },
  {
   "cell_type": "markdown",
   "metadata": {},
   "source": [
    "### Feature Analysis"
   ]
  },
  {
   "cell_type": "code",
   "execution_count": 3,
   "metadata": {},
   "outputs": [],
   "source": [
    "def df_infos(df):\n",
    "    \n",
    "    print('Dataframe dimensions:', df.shape)\n",
    "    #____________________________________________________________\n",
    "    # gives some infos on columns types and number of null values\n",
    "    \n",
    "    df_info = pd.DataFrame(df.dtypes).T.rename(index={0:'column type'})\n",
    "    df_info = df_info.append(pd.DataFrame(df.isnull().sum()).T.rename(index={0:'null values'}))\n",
    "    df_info = df_info.append(pd.DataFrame(df.isnull().sum()/df.shape[0]*100)\n",
    "                         .T.rename(index={0:'null values (%)'}))\n",
    "    return df_info\n"
   ]
  },
  {
   "cell_type": "code",
   "execution_count": 4,
   "metadata": {},
   "outputs": [
    {
     "name": "stdout",
     "output_type": "stream",
     "text": [
      "Dataframe dimensions: (614, 13)\n"
     ]
    },
    {
     "data": {
      "text/html": [
       "<div>\n",
       "<style scoped>\n",
       "    .dataframe tbody tr th:only-of-type {\n",
       "        vertical-align: middle;\n",
       "    }\n",
       "\n",
       "    .dataframe tbody tr th {\n",
       "        vertical-align: top;\n",
       "    }\n",
       "\n",
       "    .dataframe thead th {\n",
       "        text-align: right;\n",
       "    }\n",
       "</style>\n",
       "<table border=\"1\" class=\"dataframe\">\n",
       "  <thead>\n",
       "    <tr style=\"text-align: right;\">\n",
       "      <th></th>\n",
       "      <th>Loan_ID</th>\n",
       "      <th>Gender</th>\n",
       "      <th>Married</th>\n",
       "      <th>Dependents</th>\n",
       "      <th>Education</th>\n",
       "      <th>Self_Employed</th>\n",
       "      <th>ApplicantIncome</th>\n",
       "      <th>CoapplicantIncome</th>\n",
       "      <th>LoanAmount</th>\n",
       "      <th>Loan_Amount_Term</th>\n",
       "      <th>Credit_History</th>\n",
       "      <th>Property_Area</th>\n",
       "      <th>Loan_Status</th>\n",
       "    </tr>\n",
       "  </thead>\n",
       "  <tbody>\n",
       "    <tr>\n",
       "      <th>column type</th>\n",
       "      <td>object</td>\n",
       "      <td>object</td>\n",
       "      <td>object</td>\n",
       "      <td>object</td>\n",
       "      <td>object</td>\n",
       "      <td>object</td>\n",
       "      <td>int64</td>\n",
       "      <td>float64</td>\n",
       "      <td>float64</td>\n",
       "      <td>float64</td>\n",
       "      <td>float64</td>\n",
       "      <td>object</td>\n",
       "      <td>object</td>\n",
       "    </tr>\n",
       "    <tr>\n",
       "      <th>null values</th>\n",
       "      <td>0</td>\n",
       "      <td>13</td>\n",
       "      <td>3</td>\n",
       "      <td>15</td>\n",
       "      <td>0</td>\n",
       "      <td>32</td>\n",
       "      <td>0</td>\n",
       "      <td>0</td>\n",
       "      <td>22</td>\n",
       "      <td>14</td>\n",
       "      <td>50</td>\n",
       "      <td>0</td>\n",
       "      <td>0</td>\n",
       "    </tr>\n",
       "    <tr>\n",
       "      <th>null values (%)</th>\n",
       "      <td>0</td>\n",
       "      <td>2.11726</td>\n",
       "      <td>0.488599</td>\n",
       "      <td>2.443</td>\n",
       "      <td>0</td>\n",
       "      <td>5.21173</td>\n",
       "      <td>0</td>\n",
       "      <td>0</td>\n",
       "      <td>3.58306</td>\n",
       "      <td>2.28013</td>\n",
       "      <td>8.14332</td>\n",
       "      <td>0</td>\n",
       "      <td>0</td>\n",
       "    </tr>\n",
       "  </tbody>\n",
       "</table>\n",
       "</div>"
      ],
      "text/plain": [
       "                Loan_ID   Gender   Married Dependents Education Self_Employed  \\\n",
       "column type      object   object    object     object    object        object   \n",
       "null values           0       13         3         15         0            32   \n",
       "null values (%)       0  2.11726  0.488599      2.443         0       5.21173   \n",
       "\n",
       "                ApplicantIncome CoapplicantIncome LoanAmount Loan_Amount_Term  \\\n",
       "column type               int64           float64    float64          float64   \n",
       "null values                   0                 0         22               14   \n",
       "null values (%)               0                 0    3.58306          2.28013   \n",
       "\n",
       "                Credit_History Property_Area Loan_Status  \n",
       "column type            float64        object      object  \n",
       "null values                 50             0           0  \n",
       "null values (%)        8.14332             0           0  "
      ]
     },
     "execution_count": 4,
     "metadata": {},
     "output_type": "execute_result"
    }
   ],
   "source": [
    "#shape of dataframe\n",
    "df_infos(loan_train)"
   ]
  },
  {
   "cell_type": "code",
   "execution_count": 5,
   "metadata": {},
   "outputs": [
    {
     "data": {
      "text/html": [
       "<div>\n",
       "<style scoped>\n",
       "    .dataframe tbody tr th:only-of-type {\n",
       "        vertical-align: middle;\n",
       "    }\n",
       "\n",
       "    .dataframe tbody tr th {\n",
       "        vertical-align: top;\n",
       "    }\n",
       "\n",
       "    .dataframe thead th {\n",
       "        text-align: right;\n",
       "    }\n",
       "</style>\n",
       "<table border=\"1\" class=\"dataframe\">\n",
       "  <thead>\n",
       "    <tr style=\"text-align: right;\">\n",
       "      <th></th>\n",
       "      <th>ApplicantIncome</th>\n",
       "      <th>CoapplicantIncome</th>\n",
       "      <th>LoanAmount</th>\n",
       "      <th>Loan_Amount_Term</th>\n",
       "      <th>Credit_History</th>\n",
       "    </tr>\n",
       "  </thead>\n",
       "  <tbody>\n",
       "    <tr>\n",
       "      <th>count</th>\n",
       "      <td>614.000000</td>\n",
       "      <td>614.000000</td>\n",
       "      <td>592.000000</td>\n",
       "      <td>600.00000</td>\n",
       "      <td>564.000000</td>\n",
       "    </tr>\n",
       "    <tr>\n",
       "      <th>mean</th>\n",
       "      <td>5403.459283</td>\n",
       "      <td>1621.245798</td>\n",
       "      <td>146.412162</td>\n",
       "      <td>342.00000</td>\n",
       "      <td>0.842199</td>\n",
       "    </tr>\n",
       "    <tr>\n",
       "      <th>std</th>\n",
       "      <td>6109.041673</td>\n",
       "      <td>2926.248369</td>\n",
       "      <td>85.587325</td>\n",
       "      <td>65.12041</td>\n",
       "      <td>0.364878</td>\n",
       "    </tr>\n",
       "    <tr>\n",
       "      <th>min</th>\n",
       "      <td>150.000000</td>\n",
       "      <td>0.000000</td>\n",
       "      <td>9.000000</td>\n",
       "      <td>12.00000</td>\n",
       "      <td>0.000000</td>\n",
       "    </tr>\n",
       "    <tr>\n",
       "      <th>25%</th>\n",
       "      <td>2877.500000</td>\n",
       "      <td>0.000000</td>\n",
       "      <td>100.000000</td>\n",
       "      <td>360.00000</td>\n",
       "      <td>1.000000</td>\n",
       "    </tr>\n",
       "    <tr>\n",
       "      <th>50%</th>\n",
       "      <td>3812.500000</td>\n",
       "      <td>1188.500000</td>\n",
       "      <td>128.000000</td>\n",
       "      <td>360.00000</td>\n",
       "      <td>1.000000</td>\n",
       "    </tr>\n",
       "    <tr>\n",
       "      <th>75%</th>\n",
       "      <td>5795.000000</td>\n",
       "      <td>2297.250000</td>\n",
       "      <td>168.000000</td>\n",
       "      <td>360.00000</td>\n",
       "      <td>1.000000</td>\n",
       "    </tr>\n",
       "    <tr>\n",
       "      <th>max</th>\n",
       "      <td>81000.000000</td>\n",
       "      <td>41667.000000</td>\n",
       "      <td>700.000000</td>\n",
       "      <td>480.00000</td>\n",
       "      <td>1.000000</td>\n",
       "    </tr>\n",
       "  </tbody>\n",
       "</table>\n",
       "</div>"
      ],
      "text/plain": [
       "       ApplicantIncome  CoapplicantIncome  LoanAmount  Loan_Amount_Term  \\\n",
       "count       614.000000         614.000000  592.000000         600.00000   \n",
       "mean       5403.459283        1621.245798  146.412162         342.00000   \n",
       "std        6109.041673        2926.248369   85.587325          65.12041   \n",
       "min         150.000000           0.000000    9.000000          12.00000   \n",
       "25%        2877.500000           0.000000  100.000000         360.00000   \n",
       "50%        3812.500000        1188.500000  128.000000         360.00000   \n",
       "75%        5795.000000        2297.250000  168.000000         360.00000   \n",
       "max       81000.000000       41667.000000  700.000000         480.00000   \n",
       "\n",
       "       Credit_History  \n",
       "count      564.000000  \n",
       "mean         0.842199  \n",
       "std          0.364878  \n",
       "min          0.000000  \n",
       "25%          1.000000  \n",
       "50%          1.000000  \n",
       "75%          1.000000  \n",
       "max          1.000000  "
      ]
     },
     "execution_count": 5,
     "metadata": {},
     "output_type": "execute_result"
    }
   ],
   "source": [
    "# basic statistics\n",
    "loan_train.describe()"
   ]
  },
  {
   "cell_type": "markdown",
   "metadata": {},
   "source": [
    "<hr style=\"height:1px;border:none;color:333;background-color:#333;\"/> \n",
    "**Summary of Feature Type Analysis**\n",
    "> We do have a number of numeric and non-numeric features, and some features do have missing values. This tells us that we will have to think about:\n",
    "- **Feature Encoding **(label encoding, one-hot encoding, mean encoding?)\n",
    "- **Missing value imputation **(what will be the appropriate method for each feature?) \n",
    "- **Feature scaling** (Numeric features span widely different ranges) \n",
    "\n",
    "<hr style=\"height:1px;border:none;color:333;background-color:#333;\"/> "
   ]
  },
  {
   "cell_type": "markdown",
   "metadata": {},
   "source": [
    "### Check for Class Imbalance"
   ]
  },
  {
   "cell_type": "code",
   "execution_count": 6,
   "metadata": {},
   "outputs": [],
   "source": [
    "#check clas balance\n",
    "def class_proportion(df, target='Loan_Status'):\n",
    "\n",
    "    n_sample = len(df)\n",
    "    positive = sum(df[target] == 'Y')\n",
    "    negative = sum(df[target] == 'N')\n",
    "    print(\"proportion positive class = {:.2f}\".format(positive/n_sample))\n",
    "    print(\"proportion negative class = {:.2f}\".format(negative/n_sample)) \n",
    "  "
   ]
  },
  {
   "cell_type": "code",
   "execution_count": 7,
   "metadata": {},
   "outputs": [
    {
     "name": "stdout",
     "output_type": "stream",
     "text": [
      "Checking class imbalance in the train set:\n",
      "proportion positive class = 0.69\n",
      "proportion negative class = 0.31\n"
     ]
    }
   ],
   "source": [
    "print(\"Checking class imbalance in the train set:\")\n",
    "class_proportion(loan_train, target='Loan_Status')"
   ]
  },
  {
   "cell_type": "markdown",
   "metadata": {},
   "source": [
    "<hr style=\"height:1px;\"/>   \n",
    "\n",
    "**Summary for Class Imbalance**   \n",
    "There is more of the positiove class than the negative class. i.e. The current dataset has more examples for which the class label is positive. We should keep this in mind when selecting and evaluating the model. Which type of metric should be used? Accuracy score? Confusion Matrix?\n",
    "\n",
    "**Note:** Logistic Regression for instance tends to predict thesame class when the data has high class imbalance. We should consider setting the variable **class_weight = balanced** or other values has appropriate in this case.\n",
    "\n",
    "<hr style=\"height:1px;\"/> "
   ]
  },
  {
   "cell_type": "markdown",
   "metadata": {},
   "source": [
    "### Data Exploration"
   ]
  },
  {
   "cell_type": "markdown",
   "metadata": {},
   "source": [
    "Here is a list of features and their meaning:  \n",
    "\n",
    "| Variable | Description   |\n",
    "| :---:|------|\n",
    "| Loan_ID | Unique Loan ID|\n",
    "| Gender  | Male/Female |\n",
    "| Married | Applicant married (Y/N)|\n",
    "| Dependents | Number of dependents|\n",
    "| Education | Education (Graduate/ Under Graduate)|\n",
    "| Self_Employed | Self employed (Y/N) |\n",
    "| ApplicantIncome| Applicant income|\n",
    "| CoapplicantIncome| Coapplicant income|\n",
    "| LoanAmount| Loan amount in thousands|\n",
    "| Loan_Amount_Term| Term of loan in months|\n",
    "| Credit_History| credit history meets guidelines|\n",
    "| Property_Area| Urban/ Semi Urban/ Rural|\n",
    "| Loan_Status | Loan approved (Y/N) |  \n",
    "\n",
    "Now let's go through each of our initial hypothesis and see if they agree with the data"
   ]
  },
  {
   "cell_type": "markdown",
   "metadata": {},
   "source": [
    ">#### 1. Loan Status vs Marital Status\n",
    "###### Married applicants would have a higher chance of being approved compared to single applicants"
   ]
  },
  {
   "cell_type": "code",
   "execution_count": 8,
   "metadata": {},
   "outputs": [],
   "source": [
    "def make_table(df_train, column, target='Loan_Status', groups=['Yes','No']):\n",
    "    \n",
    "    \"\"\"utility function to print a summary table for a specified column\n",
    "    \"\"\"\n",
    "    \n",
    "    df = df_train[[column, target]].groupby(column).count()\n",
    "    df.columns = [\"Count\"]\n",
    "    df['Approved'] = 0\n",
    "    df['Proportion Approved'] = 0\n",
    "    \n",
    "    group1, group2 = groups[0], groups[1] \n",
    "    \n",
    "    #find the number of approved married people\n",
    "    married_approved = (df_train[column]==group1) & (df_train[target]=='Y')\n",
    "    df.loc[group1, 'Approved'] = len(df_train[married_approved])\n",
    "\n",
    "    #find the number of approved single people\n",
    "    single_approved = (df_train[column]==group2) & (df_train[target]=='Y')\n",
    "    df.loc[group2, 'Approved'] = len(df_train[single_approved])\n",
    "    \n",
    "    df.loc[group1, 'Proportion Approved'] = df.loc[group1, 'Approved']/df.loc[group1, 'Count']\n",
    "    df.loc[group2, 'Proportion Approved'] = df.loc[group2, 'Approved']/df.loc[group2, 'Count']\n",
    "    return df"
   ]
  },
  {
   "cell_type": "code",
   "execution_count": 9,
   "metadata": {},
   "outputs": [
    {
     "data": {
      "text/html": [
       "<div>\n",
       "<style scoped>\n",
       "    .dataframe tbody tr th:only-of-type {\n",
       "        vertical-align: middle;\n",
       "    }\n",
       "\n",
       "    .dataframe tbody tr th {\n",
       "        vertical-align: top;\n",
       "    }\n",
       "\n",
       "    .dataframe thead th {\n",
       "        text-align: right;\n",
       "    }\n",
       "</style>\n",
       "<table border=\"1\" class=\"dataframe\">\n",
       "  <thead>\n",
       "    <tr style=\"text-align: right;\">\n",
       "      <th></th>\n",
       "      <th>Count</th>\n",
       "      <th>Approved</th>\n",
       "      <th>Proportion Approved</th>\n",
       "    </tr>\n",
       "    <tr>\n",
       "      <th>Married</th>\n",
       "      <th></th>\n",
       "      <th></th>\n",
       "      <th></th>\n",
       "    </tr>\n",
       "  </thead>\n",
       "  <tbody>\n",
       "    <tr>\n",
       "      <th>No</th>\n",
       "      <td>213</td>\n",
       "      <td>134</td>\n",
       "      <td>0.629108</td>\n",
       "    </tr>\n",
       "    <tr>\n",
       "      <th>Yes</th>\n",
       "      <td>398</td>\n",
       "      <td>285</td>\n",
       "      <td>0.716080</td>\n",
       "    </tr>\n",
       "  </tbody>\n",
       "</table>\n",
       "</div>"
      ],
      "text/plain": [
       "         Count  Approved  Proportion Approved\n",
       "Married                                      \n",
       "No         213       134             0.629108\n",
       "Yes        398       285             0.716080"
      ]
     },
     "execution_count": 9,
     "metadata": {},
     "output_type": "execute_result"
    }
   ],
   "source": [
    "df = make_table(loan_train, column='Married', target='Loan_Status', groups=['Yes','No'])\n",
    "df"
   ]
  },
  {
   "cell_type": "code",
   "execution_count": 10,
   "metadata": {},
   "outputs": [
    {
     "data": {
      "image/png": "[encoded data removed]",
      "text/plain": [
       "<Figure size 432x288 with 1 Axes>"
      ]
     },
     "metadata": {},
     "output_type": "display_data"
    }
   ],
   "source": [
    "ax = df['Proportion Approved'].plot(kind='bar', legend=True)"
   ]
  },
  {
   "cell_type": "markdown",
   "metadata": {},
   "source": [
    "**Summary of Marital Status vs Loan Approval**\n",
    "<hr style=\"height:1px\";>\n",
    ">We see that there are more married (398) applicants than single (213) applicants. We also find that the proportion of married applicants that got approved was higher than the proportion of single applicants that got approved. This seems to agree with our initial hypothesis. We may perform a more rigourous statistical tests to confirm that the difference in proportions is indeed significant.  \n",
    "\n",
    "<hr style=\"height:1px\";>"
   ]
  },
  {
   "cell_type": "markdown",
   "metadata": {},
   "source": [
    ">#### 2. Loan Status vs Level of Education\n",
    "###### More educated applicants will have a higher chance of being approved"
   ]
  },
  {
   "cell_type": "code",
   "execution_count": 11,
   "metadata": {},
   "outputs": [
    {
     "name": "stdout",
     "output_type": "stream",
     "text": [
      "Unique calsses for variable Education ['Graduate' 'Not Graduate']\n"
     ]
    },
    {
     "data": {
      "text/html": [
       "<div>\n",
       "<style scoped>\n",
       "    .dataframe tbody tr th:only-of-type {\n",
       "        vertical-align: middle;\n",
       "    }\n",
       "\n",
       "    .dataframe tbody tr th {\n",
       "        vertical-align: top;\n",
       "    }\n",
       "\n",
       "    .dataframe thead th {\n",
       "        text-align: right;\n",
       "    }\n",
       "</style>\n",
       "<table border=\"1\" class=\"dataframe\">\n",
       "  <thead>\n",
       "    <tr style=\"text-align: right;\">\n",
       "      <th></th>\n",
       "      <th>Count</th>\n",
       "      <th>Approved</th>\n",
       "      <th>Proportion Approved</th>\n",
       "    </tr>\n",
       "    <tr>\n",
       "      <th>Education</th>\n",
       "      <th></th>\n",
       "      <th></th>\n",
       "      <th></th>\n",
       "    </tr>\n",
       "  </thead>\n",
       "  <tbody>\n",
       "    <tr>\n",
       "      <th>Graduate</th>\n",
       "      <td>480</td>\n",
       "      <td>340</td>\n",
       "      <td>0.708333</td>\n",
       "    </tr>\n",
       "    <tr>\n",
       "      <th>Not Graduate</th>\n",
       "      <td>134</td>\n",
       "      <td>82</td>\n",
       "      <td>0.611940</td>\n",
       "    </tr>\n",
       "  </tbody>\n",
       "</table>\n",
       "</div>"
      ],
      "text/plain": [
       "              Count  Approved  Proportion Approved\n",
       "Education                                         \n",
       "Graduate        480       340             0.708333\n",
       "Not Graduate    134        82             0.611940"
      ]
     },
     "execution_count": 11,
     "metadata": {},
     "output_type": "execute_result"
    }
   ],
   "source": [
    "# Check unique classes for variable Education\n",
    "print(\"Unique calsses for variable Education\", loan_train['Education'].unique())\n",
    "df = make_table(loan_train, \n",
    "                column='Education', \n",
    "                target='Loan_Status', \n",
    "                groups=['Graduate', 'Not Graduate'])\n",
    "df"
   ]
  },
  {
   "cell_type": "code",
   "execution_count": 12,
   "metadata": {},
   "outputs": [
    {
     "data": {
      "image/png": "[encoded data removed]",
      "text/plain": [
       "<Figure size 432x288 with 1 Axes>"
      ]
     },
     "metadata": {},
     "output_type": "display_data"
    }
   ],
   "source": [
    "#plot\n",
    "ax = df['Proportion Approved'].plot(kind='bar', legend=True)"
   ]
  },
  {
   "cell_type": "markdown",
   "metadata": {},
   "source": [
    ">#### 3. Loan Status vs Credit History\n",
    "###### Applicants with higher credit scores will have a higher chance of being approved"
   ]
  },
  {
   "cell_type": "code",
   "execution_count": 13,
   "metadata": {},
   "outputs": [
    {
     "name": "stdout",
     "output_type": "stream",
     "text": [
      "Unique calsses for variable Education [ 1.  0. nan]\n"
     ]
    },
    {
     "data": {
      "text/html": [
       "<div>\n",
       "<style scoped>\n",
       "    .dataframe tbody tr th:only-of-type {\n",
       "        vertical-align: middle;\n",
       "    }\n",
       "\n",
       "    .dataframe tbody tr th {\n",
       "        vertical-align: top;\n",
       "    }\n",
       "\n",
       "    .dataframe thead th {\n",
       "        text-align: right;\n",
       "    }\n",
       "</style>\n",
       "<table border=\"1\" class=\"dataframe\">\n",
       "  <thead>\n",
       "    <tr style=\"text-align: right;\">\n",
       "      <th></th>\n",
       "      <th>Count</th>\n",
       "      <th>Approved</th>\n",
       "      <th>Proportion Approved</th>\n",
       "    </tr>\n",
       "    <tr>\n",
       "      <th>Credit_History</th>\n",
       "      <th></th>\n",
       "      <th></th>\n",
       "      <th></th>\n",
       "    </tr>\n",
       "  </thead>\n",
       "  <tbody>\n",
       "    <tr>\n",
       "      <th>0.0</th>\n",
       "      <td>89</td>\n",
       "      <td>7</td>\n",
       "      <td>0.078652</td>\n",
       "    </tr>\n",
       "    <tr>\n",
       "      <th>1.0</th>\n",
       "      <td>475</td>\n",
       "      <td>378</td>\n",
       "      <td>0.795789</td>\n",
       "    </tr>\n",
       "  </tbody>\n",
       "</table>\n",
       "</div>"
      ],
      "text/plain": [
       "                Count  Approved  Proportion Approved\n",
       "Credit_History                                      \n",
       "0.0                89         7             0.078652\n",
       "1.0               475       378             0.795789"
      ]
     },
     "execution_count": 13,
     "metadata": {},
     "output_type": "execute_result"
    }
   ],
   "source": [
    "# Check unique classes for variable Credit history\n",
    "print(\"Unique calsses for variable Education\", loan_train['Credit_History'].unique())\n",
    "df = make_table(loan_train, \n",
    "                column='Credit_History', \n",
    "                target='Loan_Status', \n",
    "                groups=[1, 0])\n",
    "df"
   ]
  },
  {
   "cell_type": "code",
   "execution_count": 14,
   "metadata": {},
   "outputs": [
    {
     "data": {
      "image/png": "[encoded data removed]",
      "text/plain": [
       "<Figure size 432x288 with 1 Axes>"
      ]
     },
     "metadata": {},
     "output_type": "display_data"
    }
   ],
   "source": [
    "#plot\n",
    "ax = df['Proportion Approved'].plot(kind='bar', legend=True)"
   ]
  },
  {
   "cell_type": "markdown",
   "metadata": {},
   "source": [
    "**Summary of Education and Credit Score vs Loan Status**\n",
    "<hr style=\"height:1px\";>\n",
    "> It appears that:\n",
    "- The level of education favors loan approval\n",
    "- Credit history is very important for loan approval\n",
    "\n",
    "<hr style=\"height:1px\";>"
   ]
  },
  {
   "cell_type": "markdown",
   "metadata": {},
   "source": [
    ">#### 4. Is there a gender bias?"
   ]
  },
  {
   "cell_type": "code",
   "execution_count": 15,
   "metadata": {},
   "outputs": [
    {
     "data": {
      "text/html": [
       "<div>\n",
       "<style scoped>\n",
       "    .dataframe tbody tr th:only-of-type {\n",
       "        vertical-align: middle;\n",
       "    }\n",
       "\n",
       "    .dataframe tbody tr th {\n",
       "        vertical-align: top;\n",
       "    }\n",
       "\n",
       "    .dataframe thead th {\n",
       "        text-align: right;\n",
       "    }\n",
       "</style>\n",
       "<table border=\"1\" class=\"dataframe\">\n",
       "  <thead>\n",
       "    <tr style=\"text-align: right;\">\n",
       "      <th></th>\n",
       "      <th>Count</th>\n",
       "      <th>Approved</th>\n",
       "      <th>Proportion Approved</th>\n",
       "    </tr>\n",
       "    <tr>\n",
       "      <th>Gender</th>\n",
       "      <th></th>\n",
       "      <th></th>\n",
       "      <th></th>\n",
       "    </tr>\n",
       "  </thead>\n",
       "  <tbody>\n",
       "    <tr>\n",
       "      <th>Female</th>\n",
       "      <td>112</td>\n",
       "      <td>75</td>\n",
       "      <td>0.669643</td>\n",
       "    </tr>\n",
       "    <tr>\n",
       "      <th>Male</th>\n",
       "      <td>489</td>\n",
       "      <td>339</td>\n",
       "      <td>0.693252</td>\n",
       "    </tr>\n",
       "  </tbody>\n",
       "</table>\n",
       "</div>"
      ],
      "text/plain": [
       "        Count  Approved  Proportion Approved\n",
       "Gender                                      \n",
       "Female    112        75             0.669643\n",
       "Male      489       339             0.693252"
      ]
     },
     "execution_count": 15,
     "metadata": {},
     "output_type": "execute_result"
    }
   ],
   "source": [
    "df = make_table(loan_train, \n",
    "                column='Gender', \n",
    "                target='Loan_Status', \n",
    "                groups=['Male', 'Female'])\n",
    "df"
   ]
  },
  {
   "cell_type": "code",
   "execution_count": 16,
   "metadata": {},
   "outputs": [
    {
     "data": {
      "image/png": "[encoded data removed]",
      "text/plain": [
       "<Figure size 432x288 with 1 Axes>"
      ]
     },
     "metadata": {},
     "output_type": "display_data"
    }
   ],
   "source": [
    "#plot\n",
    "ax = df['Proportion Approved'].plot(kind='bar', legend=True)"
   ]
  },
  {
   "cell_type": "code",
   "execution_count": 17,
   "metadata": {},
   "outputs": [
    {
     "data": {
      "text/html": [
       "<div>\n",
       "<style scoped>\n",
       "    .dataframe tbody tr th:only-of-type {\n",
       "        vertical-align: middle;\n",
       "    }\n",
       "\n",
       "    .dataframe tbody tr th {\n",
       "        vertical-align: top;\n",
       "    }\n",
       "\n",
       "    .dataframe thead th {\n",
       "        text-align: right;\n",
       "    }\n",
       "</style>\n",
       "<table border=\"1\" class=\"dataframe\">\n",
       "  <thead>\n",
       "    <tr style=\"text-align: right;\">\n",
       "      <th>Loan_Status</th>\n",
       "      <th>N</th>\n",
       "      <th>Y</th>\n",
       "    </tr>\n",
       "    <tr>\n",
       "      <th>Gender</th>\n",
       "      <th></th>\n",
       "      <th></th>\n",
       "    </tr>\n",
       "  </thead>\n",
       "  <tbody>\n",
       "    <tr>\n",
       "      <th>Female</th>\n",
       "      <td>37</td>\n",
       "      <td>75</td>\n",
       "    </tr>\n",
       "    <tr>\n",
       "      <th>Male</th>\n",
       "      <td>150</td>\n",
       "      <td>339</td>\n",
       "    </tr>\n",
       "  </tbody>\n",
       "</table>\n",
       "</div>"
      ],
      "text/plain": [
       "Loan_Status    N    Y\n",
       "Gender               \n",
       "Female        37   75\n",
       "Male         150  339"
      ]
     },
     "execution_count": 17,
     "metadata": {},
     "output_type": "execute_result"
    }
   ],
   "source": [
    "#use crosstap() to to perform same task as previous step\n",
    "Gender=pd.crosstab(loan_train['Gender'],loan_train['Loan_Status'])\n",
    "Gender"
   ]
  },
  {
   "cell_type": "code",
   "execution_count": 18,
   "metadata": {},
   "outputs": [
    {
     "data": {
      "text/html": [
       "<div>\n",
       "<style scoped>\n",
       "    .dataframe tbody tr th:only-of-type {\n",
       "        vertical-align: middle;\n",
       "    }\n",
       "\n",
       "    .dataframe tbody tr th {\n",
       "        vertical-align: top;\n",
       "    }\n",
       "\n",
       "    .dataframe thead th {\n",
       "        text-align: right;\n",
       "    }\n",
       "</style>\n",
       "<table border=\"1\" class=\"dataframe\">\n",
       "  <thead>\n",
       "    <tr style=\"text-align: right;\">\n",
       "      <th>Loan_Status</th>\n",
       "      <th>N</th>\n",
       "      <th>Y</th>\n",
       "    </tr>\n",
       "    <tr>\n",
       "      <th>Gender</th>\n",
       "      <th></th>\n",
       "      <th></th>\n",
       "    </tr>\n",
       "  </thead>\n",
       "  <tbody>\n",
       "    <tr>\n",
       "      <th>Female</th>\n",
       "      <td>0.330357</td>\n",
       "      <td>0.669643</td>\n",
       "    </tr>\n",
       "    <tr>\n",
       "      <th>Male</th>\n",
       "      <td>0.306748</td>\n",
       "      <td>0.693252</td>\n",
       "    </tr>\n",
       "  </tbody>\n",
       "</table>\n",
       "</div>"
      ],
      "text/plain": [
       "Loan_Status         N         Y\n",
       "Gender                         \n",
       "Female       0.330357  0.669643\n",
       "Male         0.306748  0.693252"
      ]
     },
     "execution_count": 18,
     "metadata": {},
     "output_type": "execute_result"
    }
   ],
   "source": [
    "#Find proportions by normalizing row-wise\n",
    "Gender.div(Gender.sum(axis=1).astype(float), axis=0) "
   ]
  },
  {
   "cell_type": "code",
   "execution_count": 19,
   "metadata": {},
   "outputs": [
    {
     "data": {
      "text/plain": [
       "<matplotlib.axes._subplots.AxesSubplot at 0x7f535337b160>"
      ]
     },
     "execution_count": 19,
     "metadata": {},
     "output_type": "execute_result"
    },
    {
     "data": {
      "image/png": "[encoded data removed]",
      "text/plain": [
       "<Figure size 288x288 with 1 Axes>"
      ]
     },
     "metadata": {},
     "output_type": "display_data"
    }
   ],
   "source": [
    "#Same as above, but use the normalize argument of crosstab()\n",
    "(pd.crosstab(loan_train['Gender'],loan_train['Loan_Status'], normalize='index').\n",
    "    plot(kind=\"bar\", stacked=False, figsize=(4,4)) )"
   ]
  },
  {
   "cell_type": "markdown",
   "metadata": {},
   "source": [
    "> #### 5. Property Area vs Loan Status\n",
    " ##### Does the location of the property in question affect  loan approval?"
   ]
  },
  {
   "cell_type": "code",
   "execution_count": 20,
   "metadata": {},
   "outputs": [
    {
     "data": {
      "text/html": [
       "<div>\n",
       "<style scoped>\n",
       "    .dataframe tbody tr th:only-of-type {\n",
       "        vertical-align: middle;\n",
       "    }\n",
       "\n",
       "    .dataframe tbody tr th {\n",
       "        vertical-align: top;\n",
       "    }\n",
       "\n",
       "    .dataframe thead th {\n",
       "        text-align: right;\n",
       "    }\n",
       "</style>\n",
       "<table border=\"1\" class=\"dataframe\">\n",
       "  <thead>\n",
       "    <tr style=\"text-align: right;\">\n",
       "      <th>Loan_Status</th>\n",
       "      <th>N</th>\n",
       "      <th>Y</th>\n",
       "    </tr>\n",
       "    <tr>\n",
       "      <th>Property_Area</th>\n",
       "      <th></th>\n",
       "      <th></th>\n",
       "    </tr>\n",
       "  </thead>\n",
       "  <tbody>\n",
       "    <tr>\n",
       "      <th>Rural</th>\n",
       "      <td>0.385475</td>\n",
       "      <td>0.614525</td>\n",
       "    </tr>\n",
       "    <tr>\n",
       "      <th>Urban</th>\n",
       "      <td>0.341584</td>\n",
       "      <td>0.658416</td>\n",
       "    </tr>\n",
       "    <tr>\n",
       "      <th>Semiurban</th>\n",
       "      <td>0.231760</td>\n",
       "      <td>0.768240</td>\n",
       "    </tr>\n",
       "  </tbody>\n",
       "</table>\n",
       "</div>"
      ],
      "text/plain": [
       "Loan_Status           N         Y\n",
       "Property_Area                    \n",
       "Rural          0.385475  0.614525\n",
       "Urban          0.341584  0.658416\n",
       "Semiurban      0.231760  0.768240"
      ]
     },
     "execution_count": 20,
     "metadata": {},
     "output_type": "execute_result"
    }
   ],
   "source": [
    "#Same as above, but use the normalize argument of crosstab()\n",
    "df = pd.crosstab(loan_train['Property_Area'],loan_train['Loan_Status'], normalize='index').sort_values(by='Y')\n",
    "df"
   ]
  },
  {
   "cell_type": "code",
   "execution_count": 21,
   "metadata": {},
   "outputs": [
    {
     "data": {
      "image/png": "[encoded data removed]",
      "text/plain": [
       "<Figure size 432x288 with 1 Axes>"
      ]
     },
     "metadata": {},
     "output_type": "display_data"
    }
   ],
   "source": [
    "ax = df.plot(kind='bar', stacked=False)"
   ]
  },
  {
   "cell_type": "markdown",
   "metadata": {},
   "source": [
    "**Summary of Property Area vs Loan Status**\n",
    "<hr style=\"height:1px\";>\n",
    "> It appears that:\n",
    "- Applicant who seek loans for properties in semiurban area have a higher approval probability\n",
    "- We should use statistical test to confirm if the difference in proportion is significant\n",
    "\n",
    "<hr style=\"height:1px\";>"
   ]
  },
  {
   "cell_type": "markdown",
   "metadata": {},
   "source": [
    "> #### 5. Loan Amount vs Loan Status\n",
    " ##### Does the amount requested affect  loan approval?"
   ]
  },
  {
   "cell_type": "code",
   "execution_count": 22,
   "metadata": {},
   "outputs": [
    {
     "data": {
      "image/png": "[encoded data removed]",
      "text/plain": [
       "<Figure size 432x288 with 2 Axes>"
      ]
     },
     "metadata": {},
     "output_type": "display_data"
    }
   ],
   "source": [
    "_ = loan_train[['LoanAmount', 'Loan_Status']].groupby('Loan_Status').boxplot(showmeans=True)"
   ]
  },
  {
   "cell_type": "markdown",
   "metadata": {},
   "source": [
    ">**LoanAmount** does not really tell much besides that there are a number of specially high amounts that have been approved. Let's create amount categories."
   ]
  },
  {
   "cell_type": "code",
   "execution_count": 23,
   "metadata": {},
   "outputs": [
    {
     "data": {
      "text/html": [
       "<div>\n",
       "<style scoped>\n",
       "    .dataframe tbody tr th:only-of-type {\n",
       "        vertical-align: middle;\n",
       "    }\n",
       "\n",
       "    .dataframe tbody tr th {\n",
       "        vertical-align: top;\n",
       "    }\n",
       "\n",
       "    .dataframe thead th {\n",
       "        text-align: right;\n",
       "    }\n",
       "</style>\n",
       "<table border=\"1\" class=\"dataframe\">\n",
       "  <thead>\n",
       "    <tr style=\"text-align: right;\">\n",
       "      <th>Loan_Status</th>\n",
       "      <th>N</th>\n",
       "      <th>Y</th>\n",
       "    </tr>\n",
       "    <tr>\n",
       "      <th>LoanAmount</th>\n",
       "      <th></th>\n",
       "      <th></th>\n",
       "    </tr>\n",
       "  </thead>\n",
       "  <tbody>\n",
       "    <tr>\n",
       "      <th>200</th>\n",
       "      <td>0.292969</td>\n",
       "      <td>0.707031</td>\n",
       "    </tr>\n",
       "    <tr>\n",
       "      <th>300</th>\n",
       "      <td>0.372549</td>\n",
       "      <td>0.627451</td>\n",
       "    </tr>\n",
       "    <tr>\n",
       "      <th>400</th>\n",
       "      <td>0.533333</td>\n",
       "      <td>0.466667</td>\n",
       "    </tr>\n",
       "    <tr>\n",
       "      <th>700</th>\n",
       "      <td>0.285714</td>\n",
       "      <td>0.714286</td>\n",
       "    </tr>\n",
       "  </tbody>\n",
       "</table>\n",
       "</div>"
      ],
      "text/plain": [
       "Loan_Status         N         Y\n",
       "LoanAmount                     \n",
       "200          0.292969  0.707031\n",
       "300          0.372549  0.627451\n",
       "400          0.533333  0.466667\n",
       "700          0.285714  0.714286"
      ]
     },
     "execution_count": 23,
     "metadata": {},
     "output_type": "execute_result"
    }
   ],
   "source": [
    "#use pd.cut to create categories of LoanAmount\n",
    "bins = [0, 200, 300, 400, 700]\n",
    "group = [200, 300, 400, 700]\n",
    "\n",
    "loan_amt_cat = pd.cut(loan_train['LoanAmount'],bins,labels=group)\n",
    "pd.crosstab(loan_amt_cat, loan_train['Loan_Status'], normalize='index')"
   ]
  },
  {
   "cell_type": "code",
   "execution_count": 24,
   "metadata": {},
   "outputs": [
    {
     "data": {
      "image/png": "[encoded data removed]",
      "text/plain": [
       "<Figure size 432x288 with 1 Axes>"
      ]
     },
     "metadata": {},
     "output_type": "display_data"
    }
   ],
   "source": [
    "_ = pd.crosstab(loan_amt_cat, loan_train['Loan_Status'], normalize='index').plot(kind='bar')"
   ]
  },
  {
   "cell_type": "markdown",
   "metadata": {},
   "source": [
    "**Summary of Loan vs Loan Status**\n",
    "<hr style=\"height:1px\";>  \n",
    "It appears that: \n",
    "\n",
    "- Grouping the Loan Amount in categories reveals a pattern in approval rates \n",
    "- Approval rate is higher for amounts in the range 0-200 and 400-700\n",
    "- Approval rate is a bit lower for amount between 300-400\n",
    "- Maybe creating a feature to capture these patterns will help the model\n",
    "\n",
    "<hr style=\"height:1px\";>"
   ]
  },
  {
   "cell_type": "code",
   "execution_count": 25,
   "metadata": {},
   "outputs": [
    {
     "data": {
      "image/png": "[encoded data removed]",
      "text/plain": [
       "<Figure size 432x288 with 1 Axes>"
      ]
     },
     "metadata": {},
     "output_type": "display_data"
    }
   ],
   "source": [
    "bins=[0,2500,4000,6000,81000]\n",
    "group=['Low','Average','High', 'Very High']\n",
    "appl_income_cat = pd.cut(loan_train['ApplicantIncome'],bins,labels=group)\n",
    "\n",
    "_= pd.crosstab(appl_income_cat,loan_train['Loan_Status'], normalize='index').plot(kind='bar')"
   ]
  },
  {
   "cell_type": "code",
   "execution_count": 26,
   "metadata": {},
   "outputs": [
    {
     "data": {
      "image/png": "[encoded data removed]",
      "text/plain": [
       "<Figure size 432x288 with 1 Axes>"
      ]
     },
     "metadata": {},
     "output_type": "display_data"
    }
   ],
   "source": [
    "#looking at the coapplicant income\n",
    "bins=[0,2500,4000,6000,81000]\n",
    "group=['Low','Average','High', 'Very High']\n",
    "coappl_income_cat = pd.cut(loan_train['CoapplicantIncome'],bins,labels=group)\n",
    "\n",
    "_ = pd.crosstab(coappl_income_cat,loan_train['Loan_Status'], normalize='index').plot(kind='bar')"
   ]
  },
  {
   "cell_type": "code",
   "execution_count": 27,
   "metadata": {},
   "outputs": [
    {
     "data": {
      "text/plain": [
       "Text(0.5,0,'TotalIncome')"
      ]
     },
     "execution_count": 27,
     "metadata": {},
     "output_type": "execute_result"
    },
    {
     "data": {
      "image/png": "[encoded data removed]",
      "text/plain": [
       "<Figure size 432x288 with 1 Axes>"
      ]
     },
     "metadata": {},
     "output_type": "display_data"
    }
   ],
   "source": [
    "#Applicant Income\n",
    "tot_income = loan_train['ApplicantIncome']+loan_train['CoapplicantIncome']\n",
    "bins=[0,2500,4000,6000,81000]\n",
    "group=['Low','Average','High', 'Very high']\n",
    "tot_income_cat = pd.cut(tot_income,bins,labels=group)\n",
    "\n",
    "_ = pd.crosstab(tot_income_cat,loan_train['Loan_Status'], normalize='index').plot(kind='bar')\n",
    "plt.xlabel('TotalIncome')"
   ]
  },
  {
   "cell_type": "markdown",
   "metadata": {},
   "source": [
    "**Summary of Applicant-Coapplicant Income vs Loan Status**\n",
    "<hr style=\"height:1px\";>  \n",
    "\n",
    "It appears that:   \n",
    "- Banks consider income ranges, rather than individual income values\n",
    "- Approval rate will be higher than rejection rate as long as applicant has some income\n",
    "- For applicants in the low income range, approval rate increases if the coapplicant has some income\n",
    "- Surprisingly, it seems that for applicants in the high income range, approval rate decreases if coapplicant also has high income\n",
    "- When the total income is in the low income range, rejection rate is higher than approval rate\n",
    "\n",
    "<hr style=\"height:1px\";>"
   ]
  },
  {
   "cell_type": "markdown",
   "metadata": {},
   "source": [
    "#### Correlation Between Features"
   ]
  },
  {
   "cell_type": "code",
   "execution_count": 28,
   "metadata": {},
   "outputs": [
    {
     "data": {
      "text/html": [
       "<div>\n",
       "<style scoped>\n",
       "    .dataframe tbody tr th:only-of-type {\n",
       "        vertical-align: middle;\n",
       "    }\n",
       "\n",
       "    .dataframe tbody tr th {\n",
       "        vertical-align: top;\n",
       "    }\n",
       "\n",
       "    .dataframe thead th {\n",
       "        text-align: right;\n",
       "    }\n",
       "</style>\n",
       "<table border=\"1\" class=\"dataframe\">\n",
       "  <thead>\n",
       "    <tr style=\"text-align: right;\">\n",
       "      <th></th>\n",
       "      <th>ApplicantIncome</th>\n",
       "      <th>CoapplicantIncome</th>\n",
       "      <th>LoanAmount</th>\n",
       "      <th>Loan_Amount_Term</th>\n",
       "      <th>Credit_History</th>\n",
       "    </tr>\n",
       "  </thead>\n",
       "  <tbody>\n",
       "    <tr>\n",
       "      <th>ApplicantIncome</th>\n",
       "      <td>1.000000</td>\n",
       "      <td>-0.116605</td>\n",
       "      <td>0.570909</td>\n",
       "      <td>-0.045306</td>\n",
       "      <td>-0.014715</td>\n",
       "    </tr>\n",
       "    <tr>\n",
       "      <th>CoapplicantIncome</th>\n",
       "      <td>-0.116605</td>\n",
       "      <td>1.000000</td>\n",
       "      <td>0.188619</td>\n",
       "      <td>-0.059878</td>\n",
       "      <td>-0.002056</td>\n",
       "    </tr>\n",
       "    <tr>\n",
       "      <th>LoanAmount</th>\n",
       "      <td>0.570909</td>\n",
       "      <td>0.188619</td>\n",
       "      <td>1.000000</td>\n",
       "      <td>0.039447</td>\n",
       "      <td>-0.008433</td>\n",
       "    </tr>\n",
       "    <tr>\n",
       "      <th>Loan_Amount_Term</th>\n",
       "      <td>-0.045306</td>\n",
       "      <td>-0.059878</td>\n",
       "      <td>0.039447</td>\n",
       "      <td>1.000000</td>\n",
       "      <td>0.001470</td>\n",
       "    </tr>\n",
       "    <tr>\n",
       "      <th>Credit_History</th>\n",
       "      <td>-0.014715</td>\n",
       "      <td>-0.002056</td>\n",
       "      <td>-0.008433</td>\n",
       "      <td>0.001470</td>\n",
       "      <td>1.000000</td>\n",
       "    </tr>\n",
       "  </tbody>\n",
       "</table>\n",
       "</div>"
      ],
      "text/plain": [
       "                   ApplicantIncome  CoapplicantIncome  LoanAmount  \\\n",
       "ApplicantIncome           1.000000          -0.116605    0.570909   \n",
       "CoapplicantIncome        -0.116605           1.000000    0.188619   \n",
       "LoanAmount                0.570909           0.188619    1.000000   \n",
       "Loan_Amount_Term         -0.045306          -0.059878    0.039447   \n",
       "Credit_History           -0.014715          -0.002056   -0.008433   \n",
       "\n",
       "                   Loan_Amount_Term  Credit_History  \n",
       "ApplicantIncome           -0.045306       -0.014715  \n",
       "CoapplicantIncome         -0.059878       -0.002056  \n",
       "LoanAmount                 0.039447       -0.008433  \n",
       "Loan_Amount_Term           1.000000        0.001470  \n",
       "Credit_History             0.001470        1.000000  "
      ]
     },
     "execution_count": 28,
     "metadata": {},
     "output_type": "execute_result"
    }
   ],
   "source": [
    "loan_train.corr()"
   ]
  },
  {
   "cell_type": "markdown",
   "metadata": {},
   "source": [
    "### Data Preparation and Cleaning"
   ]
  },
  {
   "cell_type": "code",
   "execution_count": 29,
   "metadata": {},
   "outputs": [
    {
     "data": {
      "text/html": [
       "<div>\n",
       "<style scoped>\n",
       "    .dataframe tbody tr th:only-of-type {\n",
       "        vertical-align: middle;\n",
       "    }\n",
       "\n",
       "    .dataframe tbody tr th {\n",
       "        vertical-align: top;\n",
       "    }\n",
       "\n",
       "    .dataframe thead th {\n",
       "        text-align: right;\n",
       "    }\n",
       "</style>\n",
       "<table border=\"1\" class=\"dataframe\">\n",
       "  <thead>\n",
       "    <tr style=\"text-align: right;\">\n",
       "      <th></th>\n",
       "      <th>Loan_ID</th>\n",
       "      <th>Gender</th>\n",
       "      <th>Married</th>\n",
       "      <th>Dependents</th>\n",
       "      <th>Education</th>\n",
       "      <th>Self_Employed</th>\n",
       "      <th>ApplicantIncome</th>\n",
       "      <th>CoapplicantIncome</th>\n",
       "      <th>LoanAmount</th>\n",
       "      <th>Loan_Amount_Term</th>\n",
       "      <th>Credit_History</th>\n",
       "      <th>Property_Area</th>\n",
       "      <th>Loan_Status</th>\n",
       "    </tr>\n",
       "  </thead>\n",
       "  <tbody>\n",
       "    <tr>\n",
       "      <th>0</th>\n",
       "      <td>LP001002</td>\n",
       "      <td>Male</td>\n",
       "      <td>No</td>\n",
       "      <td>0</td>\n",
       "      <td>Graduate</td>\n",
       "      <td>No</td>\n",
       "      <td>5849</td>\n",
       "      <td>0.0</td>\n",
       "      <td>NaN</td>\n",
       "      <td>360.0</td>\n",
       "      <td>1.0</td>\n",
       "      <td>Urban</td>\n",
       "      <td>Y</td>\n",
       "    </tr>\n",
       "    <tr>\n",
       "      <th>1</th>\n",
       "      <td>LP001003</td>\n",
       "      <td>Male</td>\n",
       "      <td>Yes</td>\n",
       "      <td>1</td>\n",
       "      <td>Graduate</td>\n",
       "      <td>No</td>\n",
       "      <td>4583</td>\n",
       "      <td>1508.0</td>\n",
       "      <td>128.0</td>\n",
       "      <td>360.0</td>\n",
       "      <td>1.0</td>\n",
       "      <td>Rural</td>\n",
       "      <td>N</td>\n",
       "    </tr>\n",
       "  </tbody>\n",
       "</table>\n",
       "</div>"
      ],
      "text/plain": [
       "    Loan_ID Gender Married Dependents Education Self_Employed  \\\n",
       "0  LP001002   Male      No          0  Graduate            No   \n",
       "1  LP001003   Male     Yes          1  Graduate            No   \n",
       "\n",
       "   ApplicantIncome  CoapplicantIncome  LoanAmount  Loan_Amount_Term  \\\n",
       "0             5849                0.0         NaN             360.0   \n",
       "1             4583             1508.0       128.0             360.0   \n",
       "\n",
       "   Credit_History Property_Area Loan_Status  \n",
       "0             1.0         Urban           Y  \n",
       "1             1.0         Rural           N  "
      ]
     },
     "execution_count": 29,
     "metadata": {},
     "output_type": "execute_result"
    }
   ],
   "source": [
    "#preview data again\n",
    "loan_train.head(2)"
   ]
  },
  {
   "cell_type": "code",
   "execution_count": 30,
   "metadata": {},
   "outputs": [
    {
     "data": {
      "text/html": [
       "<div>\n",
       "<style scoped>\n",
       "    .dataframe tbody tr th:only-of-type {\n",
       "        vertical-align: middle;\n",
       "    }\n",
       "\n",
       "    .dataframe tbody tr th {\n",
       "        vertical-align: top;\n",
       "    }\n",
       "\n",
       "    .dataframe thead th {\n",
       "        text-align: right;\n",
       "    }\n",
       "</style>\n",
       "<table border=\"1\" class=\"dataframe\">\n",
       "  <thead>\n",
       "    <tr style=\"text-align: right;\">\n",
       "      <th></th>\n",
       "      <th>Gender</th>\n",
       "      <th>Married</th>\n",
       "      <th>Dependents</th>\n",
       "      <th>Education</th>\n",
       "      <th>Self_Employed</th>\n",
       "      <th>ApplicantIncome</th>\n",
       "      <th>CoapplicantIncome</th>\n",
       "      <th>LoanAmount</th>\n",
       "      <th>Loan_Amount_Term</th>\n",
       "      <th>Credit_History</th>\n",
       "      <th>Property_Area</th>\n",
       "    </tr>\n",
       "  </thead>\n",
       "  <tbody>\n",
       "    <tr>\n",
       "      <th>0</th>\n",
       "      <td>Male</td>\n",
       "      <td>No</td>\n",
       "      <td>0</td>\n",
       "      <td>Graduate</td>\n",
       "      <td>No</td>\n",
       "      <td>5849</td>\n",
       "      <td>0.0</td>\n",
       "      <td>NaN</td>\n",
       "      <td>360.0</td>\n",
       "      <td>1.0</td>\n",
       "      <td>Urban</td>\n",
       "    </tr>\n",
       "    <tr>\n",
       "      <th>1</th>\n",
       "      <td>Male</td>\n",
       "      <td>Yes</td>\n",
       "      <td>1</td>\n",
       "      <td>Graduate</td>\n",
       "      <td>No</td>\n",
       "      <td>4583</td>\n",
       "      <td>1508.0</td>\n",
       "      <td>128.0</td>\n",
       "      <td>360.0</td>\n",
       "      <td>1.0</td>\n",
       "      <td>Rural</td>\n",
       "    </tr>\n",
       "  </tbody>\n",
       "</table>\n",
       "</div>"
      ],
      "text/plain": [
       "  Gender Married Dependents Education Self_Employed  ApplicantIncome  \\\n",
       "0   Male      No          0  Graduate            No             5849   \n",
       "1   Male     Yes          1  Graduate            No             4583   \n",
       "\n",
       "   CoapplicantIncome  LoanAmount  Loan_Amount_Term  Credit_History  \\\n",
       "0                0.0         NaN             360.0             1.0   \n",
       "1             1508.0       128.0             360.0             1.0   \n",
       "\n",
       "  Property_Area  \n",
       "0         Urban  \n",
       "1         Rural  "
      ]
     },
     "execution_count": 30,
     "metadata": {},
     "output_type": "execute_result"
    }
   ],
   "source": [
    "#Loan_ID provides no information about Loaon Approval, let's drop it. We also need to drop Load_Status\n",
    "loan_train_noid = loan_train.drop(['Loan_ID', 'Loan_Status'], axis=1)\n",
    "loan_train_noid.head(2)"
   ]
  },
  {
   "cell_type": "markdown",
   "metadata": {},
   "source": [
    ">#### Dealing with Missing Values  \n",
    "Before building any model, it's important to carefully impute missing values and also deal with outliers as appropriate. This is because missing values and outliers may affect the model performance as many machine learning algorithms do not deal missing values. We can check the number of missing values for each feature  using the [pandas.isnull](https://pandas.pydata.org/pandas-docs/stable/generated/pandas.isnull.html) method which converts the dataframe into a boolean (__True__ for entries that are missing and __False__ for non missing entires). This [post](https://machinelearningmastery.com/handle-missing-data-python/) is useful to understand how missing values are handles in machine learning."
   ]
  },
  {
   "cell_type": "code",
   "execution_count": 31,
   "metadata": {},
   "outputs": [
    {
     "data": {
      "text/plain": [
       "Gender               13\n",
       "Married               3\n",
       "Dependents           15\n",
       "Education             0\n",
       "Self_Employed        32\n",
       "ApplicantIncome       0\n",
       "CoapplicantIncome     0\n",
       "LoanAmount           22\n",
       "Loan_Amount_Term     14\n",
       "Credit_History       50\n",
       "Property_Area         0\n",
       "dtype: int64"
      ]
     },
     "execution_count": 31,
     "metadata": {},
     "output_type": "execute_result"
    }
   ],
   "source": [
    "loan_train_noid.isnull().sum(axis=0)"
   ]
  },
  {
   "cell_type": "markdown",
   "metadata": {},
   "source": [
    "> ####   Numeric Features \n",
    ">\n",
    "We can use **pd.dropna(), pd.fillna(), df.drop()** for missing value imputation. Options are:\n",
    "- Replace all missing values with the **mean, mode, or median, 0, other values** \n",
    "- Drop all rows that have missing values\n",
    ">\n",
    "Note that when the data has outliers, **mean imputation** can be problematic since the mean is highly affected by outliers. In this case, the **median** may be a good choice, since the median is not affected by outliers. "
   ]
  },
  {
   "cell_type": "code",
   "execution_count": 32,
   "metadata": {},
   "outputs": [
    {
     "data": {
      "text/plain": [
       "Gender               13\n",
       "Married               3\n",
       "Dependents           15\n",
       "Education             0\n",
       "Self_Employed        32\n",
       "ApplicantIncome       0\n",
       "CoapplicantIncome     0\n",
       "LoanAmount            0\n",
       "Loan_Amount_Term     14\n",
       "Credit_History       50\n",
       "Property_Area         0\n",
       "dtype: int64"
      ]
     },
     "execution_count": 32,
     "metadata": {},
     "output_type": "execute_result"
    }
   ],
   "source": [
    "#example of median imputation for LoanAmount\n",
    "loan_train_noid['LoanAmount'].fillna(loan_train_noid['LoanAmount'].median(), inplace=True)\n",
    "loan_train_noid.isnull().sum(axis=0)"
   ]
  },
  {
   "cell_type": "code",
   "execution_count": 33,
   "metadata": {},
   "outputs": [
    {
     "data": {
      "text/plain": [
       "Gender               13\n",
       "Married               3\n",
       "Dependents           15\n",
       "Education             0\n",
       "Self_Employed        32\n",
       "ApplicantIncome       0\n",
       "CoapplicantIncome     0\n",
       "LoanAmount            0\n",
       "Loan_Amount_Term      0\n",
       "Credit_History        0\n",
       "Property_Area         0\n",
       "dtype: int64"
      ]
     },
     "execution_count": 33,
     "metadata": {},
     "output_type": "execute_result"
    }
   ],
   "source": [
    "numeric_features = list(loan_train_noid.dtypes[loan_train_noid.dtypes != 'object'].index)\n",
    "categoric_features = list(loan_train_noid.dtypes[loan_train_noid.dtypes == 'object'].index)\n",
    "test_df = loan_train_noid.copy()\n",
    "for feature in numeric_features:\n",
    "    test_df[feature].fillna(test_df[feature].median(), inplace=True)\n",
    "test_df.isnull().sum(axis=0)"
   ]
  },
  {
   "cell_type": "markdown",
   "metadata": {},
   "source": [
    "But missing value imputation can be done using the **sklearn Imputer class**"
   ]
  },
  {
   "cell_type": "code",
   "execution_count": 34,
   "metadata": {},
   "outputs": [],
   "source": [
    "from sklearn.base import BaseEstimator, TransformerMixin\n",
    "from sklearn.preprocessing import MinMaxScaler, StandardScaler, Imputer\n",
    "from sklearn.pipeline import Pipeline\n",
    "\n",
    "class DataFrameSelector(BaseEstimator, TransformerMixin):\n",
    "    \"\"\"custom transformer class, select desired attributes\n",
    "    from dataframe and convert to numpy array.\n",
    "    \"\"\"\n",
    "    def __init__(self, attribute_names):\n",
    "        self.attribute_names = attribute_names\n",
    "    \n",
    "    def fit(self, X, y=None):\n",
    "        return self\n",
    "    \n",
    "    def transform(self, X):\n",
    "        return X[self.attribute_names].values\n",
    "\n",
    "\n",
    "\n",
    "class Encoder(BaseEstimator, TransformerMixin):\n",
    "    \n",
    "    def __init__(self, attribute_names=None):\n",
    "        self.categories_ = attribute_names\n",
    "        self.dummy_categories_ = None\n",
    "        self.data = None\n",
    "    \n",
    "    def fit(self, X, y=None):\n",
    "        data = pd.DataFrame(X, columns=self.categories_)\n",
    "        data = pd.get_dummies(data)\n",
    "        self.dummy_categories_ = data.columns\n",
    "        self.data = data\n",
    "        return self\n",
    "    \n",
    "    def transform(self, X):\n",
    "        \"\"\"\n",
    "        Seems like pd.get_dummies does not like 2D arrays. It\n",
    "        works with pandas dataframe but not 2D arrays, hence we\n",
    "        need to convert array X into a dataframe\n",
    "        \n",
    "        \"\"\"\n",
    "    \n",
    "        self.fit(X)\n",
    "        \n",
    "        return self.data.values, self.dummy_categories_\n",
    "    \n",
    "    def fit_transform(self, X, y=None):\n",
    "        return self.transform(X)\n",
    "    \n",
    "\n",
    "class AttributeAdder(BaseEstimator, TransformerMixin):\n",
    "    \n",
    "    def __init__(self, add_total_income=False):\n",
    "        self.add_total_income = add_total_income\n",
    "    \n",
    "    def fit(self, X, y=None):\n",
    "        return self\n",
    "    \n",
    "    def transform(self, X):\n",
    "        \n",
    "        return self"
   ]
  },
  {
   "cell_type": "markdown",
   "metadata": {},
   "source": [
    "> ####   Non-Numeric Features \n",
    ">\n",
    "We can use **pd.dropna(), pd.fillna(), df.drop()** for missing value imputation. Options are:\n",
    "- Replace all missing values with the **mode, other values (random category)** \n",
    "- Drop all rows that have missing values"
   ]
  },
  {
   "cell_type": "code",
   "execution_count": 35,
   "metadata": {},
   "outputs": [
    {
     "data": {
      "text/html": [
       "<div>\n",
       "<style scoped>\n",
       "    .dataframe tbody tr th:only-of-type {\n",
       "        vertical-align: middle;\n",
       "    }\n",
       "\n",
       "    .dataframe tbody tr th {\n",
       "        vertical-align: top;\n",
       "    }\n",
       "\n",
       "    .dataframe thead th {\n",
       "        text-align: right;\n",
       "    }\n",
       "</style>\n",
       "<table border=\"1\" class=\"dataframe\">\n",
       "  <thead>\n",
       "    <tr style=\"text-align: right;\">\n",
       "      <th></th>\n",
       "      <th>Gender</th>\n",
       "      <th>Married</th>\n",
       "      <th>Dependents</th>\n",
       "      <th>Education</th>\n",
       "      <th>Self_Employed</th>\n",
       "      <th>Property_Area</th>\n",
       "    </tr>\n",
       "  </thead>\n",
       "  <tbody>\n",
       "    <tr>\n",
       "      <th>0</th>\n",
       "      <td>Male</td>\n",
       "      <td>No</td>\n",
       "      <td>0</td>\n",
       "      <td>Graduate</td>\n",
       "      <td>No</td>\n",
       "      <td>Urban</td>\n",
       "    </tr>\n",
       "    <tr>\n",
       "      <th>1</th>\n",
       "      <td>Male</td>\n",
       "      <td>Yes</td>\n",
       "      <td>1</td>\n",
       "      <td>Graduate</td>\n",
       "      <td>No</td>\n",
       "      <td>Rural</td>\n",
       "    </tr>\n",
       "    <tr>\n",
       "      <th>2</th>\n",
       "      <td>Male</td>\n",
       "      <td>Yes</td>\n",
       "      <td>0</td>\n",
       "      <td>Graduate</td>\n",
       "      <td>Yes</td>\n",
       "      <td>Urban</td>\n",
       "    </tr>\n",
       "    <tr>\n",
       "      <th>3</th>\n",
       "      <td>Male</td>\n",
       "      <td>Yes</td>\n",
       "      <td>0</td>\n",
       "      <td>Not Graduate</td>\n",
       "      <td>No</td>\n",
       "      <td>Urban</td>\n",
       "    </tr>\n",
       "    <tr>\n",
       "      <th>4</th>\n",
       "      <td>Male</td>\n",
       "      <td>No</td>\n",
       "      <td>0</td>\n",
       "      <td>Graduate</td>\n",
       "      <td>No</td>\n",
       "      <td>Urban</td>\n",
       "    </tr>\n",
       "  </tbody>\n",
       "</table>\n",
       "</div>"
      ],
      "text/plain": [
       "  Gender Married Dependents     Education Self_Employed Property_Area\n",
       "0   Male      No          0      Graduate            No         Urban\n",
       "1   Male     Yes          1      Graduate            No         Rural\n",
       "2   Male     Yes          0      Graduate           Yes         Urban\n",
       "3   Male     Yes          0  Not Graduate            No         Urban\n",
       "4   Male      No          0      Graduate            No         Urban"
      ]
     },
     "execution_count": 35,
     "metadata": {},
     "output_type": "execute_result"
    }
   ],
   "source": [
    "categoric_features = list(loan_train_noid.dtypes[loan_train_noid.dtypes == 'object'].index)\n",
    "\n",
    "for feature in categoric_features:\n",
    "    loan_train_noid[feature].fillna(loan_train_noid[feature].mode()[0], inplace=True)\n",
    "    \n",
    "df_categoric = loan_train_noid[categoric_features]\n",
    "df_categoric.head()"
   ]
  },
  {
   "cell_type": "code",
   "execution_count": 36,
   "metadata": {},
   "outputs": [],
   "source": [
    "def CustomEncoder(df):\n",
    "    \n",
    "    df['Married'] = df['Married'].replace('No', 0)   \n",
    "    df['Married'] = df['Married'].replace('Yes', 1)\n",
    "    df['Dependents'] = df['Dependents'].replace('3+', 3)\n",
    "    df['Dependents'] = df['Dependents'].apply(np.int64)\n",
    "    df['Education'] = df['Education'].replace('Graduate', 1)\n",
    "    df['Education'] = df['Education'].replace('Not Graduate', 0)\n",
    "    df['Self_Employed'] = df['Self_Employed'].replace('No', 1)\n",
    "    df['Self_Employed'] = df['Self_Employed'].replace('Yes', 0)\n",
    "    df['Property_Area'] = df['Property_Area'].replace('Rural', 0)\n",
    "    df['Property_Area'] = df['Property_Area'].replace('Urban', 0)\n",
    "    df['Property_Area'] = df['Property_Area'].replace('Semiurban', 1)\n",
    "    df['Gender'] = df['Gender'].replace('Male', 1)\n",
    "    df['Gender'] = df['Gender'].replace('Female', 0)\n",
    "    \n",
    "    return df\n",
    "\n",
    "def AddAttribute(df):\n",
    "    \n",
    "    #Applicant Income\n",
    "    income = df['ApplicantIncome']+df['CoapplicantIncome']\n",
    "    df['TotalIncome'] = income\n",
    "    total_income_range = loan_train_noid['TotalIncome'] > 2500\n",
    "    df['TotalIncomeRange'] = total_income_range.apply(int)\n",
    "\n",
    "    #loan amount\n",
    "    loan_amt_range = (df['LoanAmount'] <= 300) | (df['LoanAmount'] > 400)\n",
    "    df['LoanAmountRange'] = loan_amt_range.apply(int)\n",
    "\n",
    "    bins=[0,2500,4000,6000,81000]\n",
    "    group=[1,2,3,4]\n",
    "    #df['ApplicantIncome'] = pd.cut(df['ApplicantIncome'], bins, labels=group)\n",
    "    #df['CoapplicantIncome'] = pd.cut(df['CoapplicantIncome'], bins=[0, 2000, 4000], labels=group)\n",
    "    #df['TotalIncome'] = pd.cut(income, bins, labels=group)\n",
    "    #df['ApplicantIncome'] = df['ApplicantIncome'].apply(np.log)\n",
    "    #df['CoapplicantIncome'] = df['ApplicantIncome'].apply(np.log)\n",
    "    "
   ]
  },
  {
   "cell_type": "code",
   "execution_count": 37,
   "metadata": {},
   "outputs": [
    {
     "name": "stdout",
     "output_type": "stream",
     "text": [
      "['Gender', 'Married', 'Dependents', 'Education', 'Self_Employed', 'ApplicantIncome', 'CoapplicantIncome', 'LoanAmount', 'Loan_Amount_Term', 'Credit_History', 'Property_Area', 'TotalIncome', 'TotalIncomeRange', 'LoanAmountRange']\n"
     ]
    },
    {
     "data": {
      "text/html": [
       "<div>\n",
       "<style scoped>\n",
       "    .dataframe tbody tr th:only-of-type {\n",
       "        vertical-align: middle;\n",
       "    }\n",
       "\n",
       "    .dataframe tbody tr th {\n",
       "        vertical-align: top;\n",
       "    }\n",
       "\n",
       "    .dataframe thead th {\n",
       "        text-align: right;\n",
       "    }\n",
       "</style>\n",
       "<table border=\"1\" class=\"dataframe\">\n",
       "  <thead>\n",
       "    <tr style=\"text-align: right;\">\n",
       "      <th></th>\n",
       "      <th>Gender</th>\n",
       "      <th>Married</th>\n",
       "      <th>Dependents</th>\n",
       "      <th>Education</th>\n",
       "      <th>Self_Employed</th>\n",
       "      <th>ApplicantIncome</th>\n",
       "      <th>CoapplicantIncome</th>\n",
       "      <th>LoanAmount</th>\n",
       "      <th>Loan_Amount_Term</th>\n",
       "      <th>Credit_History</th>\n",
       "      <th>Property_Area</th>\n",
       "      <th>TotalIncome</th>\n",
       "      <th>TotalIncomeRange</th>\n",
       "      <th>LoanAmountRange</th>\n",
       "    </tr>\n",
       "  </thead>\n",
       "  <tbody>\n",
       "    <tr>\n",
       "      <th>0</th>\n",
       "      <td>1</td>\n",
       "      <td>0</td>\n",
       "      <td>0</td>\n",
       "      <td>1</td>\n",
       "      <td>1</td>\n",
       "      <td>5849</td>\n",
       "      <td>0.0</td>\n",
       "      <td>128.0</td>\n",
       "      <td>360.0</td>\n",
       "      <td>1.0</td>\n",
       "      <td>0</td>\n",
       "      <td>5849.0</td>\n",
       "      <td>1</td>\n",
       "      <td>1</td>\n",
       "    </tr>\n",
       "    <tr>\n",
       "      <th>1</th>\n",
       "      <td>1</td>\n",
       "      <td>1</td>\n",
       "      <td>1</td>\n",
       "      <td>1</td>\n",
       "      <td>1</td>\n",
       "      <td>4583</td>\n",
       "      <td>1508.0</td>\n",
       "      <td>128.0</td>\n",
       "      <td>360.0</td>\n",
       "      <td>1.0</td>\n",
       "      <td>0</td>\n",
       "      <td>6091.0</td>\n",
       "      <td>1</td>\n",
       "      <td>1</td>\n",
       "    </tr>\n",
       "    <tr>\n",
       "      <th>2</th>\n",
       "      <td>1</td>\n",
       "      <td>1</td>\n",
       "      <td>0</td>\n",
       "      <td>1</td>\n",
       "      <td>0</td>\n",
       "      <td>3000</td>\n",
       "      <td>0.0</td>\n",
       "      <td>66.0</td>\n",
       "      <td>360.0</td>\n",
       "      <td>1.0</td>\n",
       "      <td>0</td>\n",
       "      <td>3000.0</td>\n",
       "      <td>1</td>\n",
       "      <td>1</td>\n",
       "    </tr>\n",
       "    <tr>\n",
       "      <th>3</th>\n",
       "      <td>1</td>\n",
       "      <td>1</td>\n",
       "      <td>0</td>\n",
       "      <td>0</td>\n",
       "      <td>1</td>\n",
       "      <td>2583</td>\n",
       "      <td>2358.0</td>\n",
       "      <td>120.0</td>\n",
       "      <td>360.0</td>\n",
       "      <td>1.0</td>\n",
       "      <td>0</td>\n",
       "      <td>4941.0</td>\n",
       "      <td>1</td>\n",
       "      <td>1</td>\n",
       "    </tr>\n",
       "    <tr>\n",
       "      <th>4</th>\n",
       "      <td>1</td>\n",
       "      <td>0</td>\n",
       "      <td>0</td>\n",
       "      <td>1</td>\n",
       "      <td>1</td>\n",
       "      <td>6000</td>\n",
       "      <td>0.0</td>\n",
       "      <td>141.0</td>\n",
       "      <td>360.0</td>\n",
       "      <td>1.0</td>\n",
       "      <td>0</td>\n",
       "      <td>6000.0</td>\n",
       "      <td>1</td>\n",
       "      <td>1</td>\n",
       "    </tr>\n",
       "  </tbody>\n",
       "</table>\n",
       "</div>"
      ],
      "text/plain": [
       "   Gender  Married  Dependents  Education  Self_Employed  ApplicantIncome  \\\n",
       "0       1        0           0          1              1             5849   \n",
       "1       1        1           1          1              1             4583   \n",
       "2       1        1           0          1              0             3000   \n",
       "3       1        1           0          0              1             2583   \n",
       "4       1        0           0          1              1             6000   \n",
       "\n",
       "   CoapplicantIncome  LoanAmount  Loan_Amount_Term  Credit_History  \\\n",
       "0                0.0       128.0             360.0             1.0   \n",
       "1             1508.0       128.0             360.0             1.0   \n",
       "2                0.0        66.0             360.0             1.0   \n",
       "3             2358.0       120.0             360.0             1.0   \n",
       "4                0.0       141.0             360.0             1.0   \n",
       "\n",
       "   Property_Area  TotalIncome  TotalIncomeRange  LoanAmountRange  \n",
       "0              0       5849.0                 1                1  \n",
       "1              0       6091.0                 1                1  \n",
       "2              0       3000.0                 1                1  \n",
       "3              0       4941.0                 1                1  \n",
       "4              0       6000.0                 1                1  "
      ]
     },
     "execution_count": 37,
     "metadata": {},
     "output_type": "execute_result"
    }
   ],
   "source": [
    "CustomEncoder(loan_train_noid)\n",
    "AddAttribute(loan_train_noid)\n",
    "\n",
    "numeric_features = list(loan_train_noid.dtypes[loan_train_noid.dtypes != 'object'].index)\n",
    "print(numeric_features)\n",
    "loan_train_noid.head()"
   ]
  },
  {
   "cell_type": "code",
   "execution_count": 38,
   "metadata": {},
   "outputs": [
    {
     "name": "stdout",
     "output_type": "stream",
     "text": [
      "['Gender', 'Married', 'Dependents', 'Education', 'Self_Employed', 'ApplicantIncome', 'CoapplicantIncome', 'LoanAmount', 'Loan_Amount_Term', 'Credit_History', 'Property_Area', 'TotalIncome', 'TotalIncomeRange', 'LoanAmountRange']\n"
     ]
    }
   ],
   "source": [
    "categoric_pipeline = Pipeline([\n",
    "    ('selector', DataFrameSelector(attribute_names = categoric_features)),\n",
    "    ('encoder', Encoder(attribute_names = categoric_features)),\n",
    "])\n",
    "\n",
    "numeric_pipeline = Pipeline([\n",
    "    ('selector', DataFrameSelector(attribute_names = numeric_features)),\n",
    "    ('imputer', Imputer(strategy='mean')),\n",
    "    ('scaler', MinMaxScaler()),\n",
    "])\n",
    "\n",
    "def CombinedPipeline(data, numeric_pipeline, categoric_pipeline=None):\n",
    "    \n",
    "    if categoric_pipeline==None:\n",
    "        return numeric_pipeline.fit_transform(data), data.columns\n",
    "    \n",
    "    x_num = numeric_pipeline.fit_transform(data)\n",
    "    x_cat, categories = categoric_pipeline.fit_transform(data)\n",
    "    \n",
    "    x = np.c_[x_num, x_cat]\n",
    "    \n",
    "    return x, categories\n",
    "\n",
    "def import_classifiers():\n",
    "    from sklearn.linear_model import LogisticRegression, SGDClassifier\n",
    "    from sklearn.neighbors import KNeighborsClassifier\n",
    "    from sklearn.svm import SVC\n",
    "    from sklearn.tree import DecisionTreeClassifier\n",
    "    from sklearn.ensemble import RandomForestClassifier\n",
    "    from sklearn.metrics import accuracy_score\n",
    "    from sklearn.model_selection import train_test_split, cross_val_score\n",
    "\n",
    "def get_classifier(name):\n",
    "    \n",
    "    if name == 'LogisticRegression':\n",
    "        return LogisticRegression()\n",
    "    if name == 'SGDClassifier':\n",
    "        return LogisticRegression()\n",
    "    if name == 'SVC':\n",
    "        return SVC()\n",
    "    if name == 'KNeighborsClassifier':\n",
    "        return KNeighborsClassifier()\n",
    "    if name == 'DecisionTreeClassifier':\n",
    "        return DecisionTreeClassifier()\n",
    "    if name == 'RandomForestClassifier':\n",
    "        return RandomForestClassifier()\n",
    "    \n",
    "    \n",
    "def get_cross_validation_scores(X, y, classifiers, import_clf=True):\n",
    "    \"\"\"\n",
    "    create a boxplot of cross validation scores to\n",
    "    visualize how different classifiers perform with \n",
    "    default parameters\n",
    "    \n",
    "    args:\n",
    "        X -> numpy array, data to fit\n",
    "        y -> class labels\n",
    "        classifiers -> list of classifiers names (as strings)\n",
    "        \n",
    "    \"\"\"\n",
    "    if import_clf:\n",
    "        import_classifiers()\n",
    "        \n",
    "    cv_scores = {}\n",
    "    train_scores = {}\n",
    "    for name in classifiers:\n",
    "        \n",
    "        model = get_classifier(name)\n",
    "        model.fit(X, y)\n",
    "        \n",
    "        y_pred = model.predict(X)\n",
    "\n",
    "        #calculate accuracy score for the cross validation set\n",
    "        train_scores[name] = accuracy_score(y_pred, y)\n",
    "        \n",
    "        #cross validation\n",
    "        cv_scores[name] = cross_val_score(model, X, y, cv=5)\n",
    "    \n",
    "    return train_scores, cv_scores\n",
    "print(numeric_features) "
   ]
  },
  {
   "cell_type": "code",
   "execution_count": 39,
   "metadata": {},
   "outputs": [
    {
     "name": "stdout",
     "output_type": "stream",
     "text": [
      "(614, 14)\n",
      "Index(['Gender', 'Married', 'Dependents', 'Education', 'Self_Employed',\n",
      "       'ApplicantIncome', 'CoapplicantIncome', 'LoanAmount',\n",
      "       'Loan_Amount_Term', 'Credit_History', 'Property_Area', 'TotalIncome',\n",
      "       'TotalIncomeRange', 'LoanAmountRange'],\n",
      "      dtype='object')\n"
     ]
    }
   ],
   "source": [
    "from sklearn.pipeline import FeatureUnion\n",
    "\n",
    "full_pipeline = FeatureUnion(transformer_list=[\n",
    "    ('numeric_pipeline', numeric_pipeline),\n",
    "    ('categoric_pipeline', categoric_pipeline),\n",
    "])\n",
    "\n",
    "\"\"\"\n",
    "The following won't work as it is because categoric_pipeline returns a tuple\n",
    "rather than a single array. Hence, the concatenation step of FeatureUnion will\n",
    "try to use a tuple and fail.\n",
    "\n",
    "X = full_pipeline.fit_transform(loan_train_noid) \n",
    "\n",
    "\"\"\"\n",
    "\n",
    "X, categories = CombinedPipeline(loan_train_noid, numeric_pipeline, categoric_pipeline=None)\n",
    "y = np.array([1 if value == 'Y' else 0 for value in labels]).reshape(-1, 1)\n",
    "print(X.shape)\n",
    "print(categories)\n",
    "# We can reconstruct the entire dataFrame like this:\n",
    "#all_features = list(numeric_features) + list(categories)\n",
    "#X_df = pd.DataFrame(X, columns=all_features)"
   ]
  },
  {
   "cell_type": "markdown",
   "metadata": {},
   "source": [
    "## Model Selection"
   ]
  },
  {
   "cell_type": "markdown",
   "metadata": {},
   "source": [
    "- ### Non-Tree Based Models   \n",
    "\n",
    "- #### Logistic Regression"
   ]
  },
  {
   "cell_type": "code",
   "execution_count": 40,
   "metadata": {},
   "outputs": [
    {
     "name": "stdout",
     "output_type": "stream",
     "text": [
      "Accuracy score on train set   0.81\n",
      "\n",
      "cross validation score:   0.81\n"
     ]
    }
   ],
   "source": [
    "from sklearn.linear_model import LogisticRegression, SGDClassifier\n",
    "from sklearn.neighbors import KNeighborsClassifier\n",
    "from sklearn.svm import SVC\n",
    "from sklearn.metrics import accuracy_score\n",
    "from sklearn.model_selection import train_test_split, cross_val_score\n",
    "\n",
    "#split the train set into train and cross validation sets\n",
    "#x_train, x_cv, y_train, y_cv = train_test_split(X, y, test_size = 0.2)\n",
    "\n",
    "lr_model = LogisticRegression(\n",
    "    C = 1000,                    # Inverse regularization, high value means less regularization\n",
    "    #class_weight = 'balanced',   # To help to algorithm deal with class imbalance\n",
    "    penalty = 'l1',\n",
    "    random_state = 0,            # For reproducibility\n",
    "    \n",
    "    ).fit(X, y)\n",
    "\n",
    "#Make predictions on train set\n",
    "lr_y_pred = lr_model.predict(X)\n",
    "\n",
    "#calculate accuracy score for the cross validation set\n",
    "print(\"Accuracy score on train set {:6.2f}\".format(accuracy_score(lr_y_pred, y)))\n",
    "\n",
    "#use cross validation\n",
    "lr_scores = cross_val_score(lr_model, X, y, cv = 10)\n",
    "#print(\"\\ncross validation scores:\\n\", scores)\n",
    "print(\"\\ncross validation score: {:6.2f}\".format(np.mean(lr_scores)))"
   ]
  },
  {
   "cell_type": "markdown",
   "metadata": {},
   "source": [
    "<hr style=\"height:1px\";>   \n",
    "\n",
    "**Logistic Regression** performs not very good even on the train set. This may be a sign that the model is too simple and underfits the data. Possible solutions:  \n",
    "\n",
    "- Select a more complex model  \n",
    "- Reduce Regularization (this may not help in this case because we already have a pretty high value of C=1000)\n",
    "- Select a better subset of features\n",
    "\n",
    "<hr style=\"height:1px\">  "
   ]
  },
  {
   "cell_type": "markdown",
   "metadata": {},
   "source": [
    "- #### Stochastic Gradient Discent Classifier"
   ]
  },
  {
   "cell_type": "code",
   "execution_count": 41,
   "metadata": {},
   "outputs": [
    {
     "name": "stdout",
     "output_type": "stream",
     "text": [
      "Accuracy score on train set   0.73\n",
      "\n",
      "cross validation score:   0.74\n"
     ]
    }
   ],
   "source": [
    "sgd_model = SGDClassifier(\n",
    "    random_state = 0,            # For reproducibility\n",
    "    \n",
    "    ).fit(X, y)\n",
    "\n",
    "\n",
    "#Make predictions on train set\n",
    "sgd_y_pred = sgd_model.predict(X)\n",
    "\n",
    "#calculate accuracy score for the cross validation set\n",
    "print(\"Accuracy score on train set {:6.2f}\".format(accuracy_score(sgd_y_pred, y)))\n",
    "\n",
    "#use cross validation\n",
    "sgd_scores = cross_val_score(sgd_model, X, y, cv = 10)\n",
    "#print(\"\\ncross validation scores:\\n\", sgd_scores)\n",
    "print(\"\\ncross validation score: {:6.2f}\".format(np.mean(sgd_scores)))"
   ]
  },
  {
   "cell_type": "markdown",
   "metadata": {},
   "source": [
    "<hr style=\"height:1px\";>   \n",
    "\n",
    "**Stochastic Gradient Discent Classifier** clearly needs improvements:  \n",
    "\n",
    "- Hyperparameter tuning  \n",
    "- Feature enginerring\n",
    "- Select a better subset of features\n",
    "\n",
    "<hr style=\"height:1px\">  "
   ]
  },
  {
   "cell_type": "markdown",
   "metadata": {},
   "source": [
    "- #### K-Nearest Neighbor Classifier"
   ]
  },
  {
   "cell_type": "code",
   "execution_count": 42,
   "metadata": {},
   "outputs": [
    {
     "name": "stdout",
     "output_type": "stream",
     "text": [
      "Accuracy score on train set   0.83\n",
      "\n",
      "cross validation score:   0.79\n"
     ]
    }
   ],
   "source": [
    "knn_model = KNeighborsClassifier(\n",
    "    \n",
    "    ).fit(X, y)\n",
    "\n",
    "\n",
    "#Make predictions on train set\n",
    "knn_y_pred = knn_model.predict(X)\n",
    "\n",
    "#calculate accuracy score for the cross validation set\n",
    "print(\"Accuracy score on train set {:6.2f}\".format(accuracy_score(knn_y_pred, y)))\n",
    "\n",
    "#use cross validation\n",
    "knn_scores = cross_val_score(knn_model, X, y, cv = 10)\n",
    "#print(\"\\ncross validation scores:\\n\", knn_scores)\n",
    "print(\"\\ncross validation score: {:6.2f}\".format(np.mean(knn_scores)))"
   ]
  },
  {
   "cell_type": "markdown",
   "metadata": {},
   "source": [
    "- #### Support Vector Classifier "
   ]
  },
  {
   "cell_type": "code",
   "execution_count": 43,
   "metadata": {},
   "outputs": [
    {
     "name": "stdout",
     "output_type": "stream",
     "text": [
      "Accuracy score on train set   0.82\n",
      "cross validation scores   0.82\n"
     ]
    }
   ],
   "source": [
    "svc_model = SVC(C = 100, kernel = 'rbf').fit(X, y)\n",
    "\n",
    "#Make predictions using the cross validation set\n",
    "svc_y_pred = svc_model.predict(X)\n",
    "\n",
    "#calculate accuracy score for the cross validation set\n",
    "print(\"Accuracy score on train set {:6.2f}\".format(accuracy_score(svc_y_pred, y)))\n",
    "  \n",
    "svc_scores = cross_val_score(svc_model, X, y, cv = 10)\n",
    "print(\"cross validation scores {:6.2f}\".format(np.mean(svc_scores)))"
   ]
  },
  {
   "cell_type": "markdown",
   "metadata": {},
   "source": [
    "- ### Tree-Based Models "
   ]
  },
  {
   "cell_type": "markdown",
   "metadata": {},
   "source": [
    "- #### Decision Tree"
   ]
  },
  {
   "cell_type": "code",
   "execution_count": 44,
   "metadata": {},
   "outputs": [
    {
     "name": "stdout",
     "output_type": "stream",
     "text": [
      "Accuracy score   1.00\n"
     ]
    }
   ],
   "source": [
    "from sklearn.tree import DecisionTreeClassifier\n",
    "from sklearn.ensemble import RandomForestClassifier\n",
    "\n",
    "tree_model = DecisionTreeClassifier(\n",
    "    random_state = 0\n",
    "    \n",
    "    ).fit(X, y)\n",
    "\n",
    "\n",
    "#Make predictions using the cross validation set\n",
    "tree_y_pred = tree_model.predict(X)\n",
    "\n",
    "#calculate accuracy score on train set\n",
    "print(\"Accuracy score {:6.2f}\".format(accuracy_score(tree_y_pred, y)))"
   ]
  },
  {
   "cell_type": "code",
   "execution_count": 45,
   "metadata": {},
   "outputs": [
    {
     "name": "stdout",
     "output_type": "stream",
     "text": [
      "Train Accuracy Score   0.84\n",
      "\n",
      "cross validation score:   0.80\n"
     ]
    }
   ],
   "source": [
    "tree_model = DecisionTreeClassifier(\n",
    "    random_state = 0,\n",
    "    max_depth  = 5,     #Helps to reduce overfitting\n",
    "    ).fit(X,y)\n",
    "\n",
    "\n",
    "#Make predictions using the cross validation set\n",
    "tree_y_pred = tree_model.predict(X)\n",
    "\n",
    "#calculate accuracy score on train set\n",
    "print(\"Train Accuracy Score {:6.2f}\".format(accuracy_score(tree_y_pred, y)))\n",
    "\n",
    "#use cross validation\n",
    "tree_scores = cross_val_score(tree_model, X, y, cv = 10)\n",
    "#print(\"\\ncross validation scores:\\n\", tree_scores)\n",
    "print(\"\\ncross validation score: {:6.2f}\".format(np.mean(tree_scores)))"
   ]
  },
  {
   "cell_type": "markdown",
   "metadata": {},
   "source": [
    "<hr style=\"height:1px\";>   \n",
    "\n",
    "**Default Decision Tree** is perfect on the train set. But let's not get too excited! Perfect scores usually mean that the model is overfitting the data.  Possible solutions for overfitting:  \n",
    "\n",
    "- Select a less complex model  \n",
    "- increase Regularization (e.g. set the max_depth or other regularization parameters)\n",
    "- Add the training set, collect more data (of course after exploring other options deeper)\n",
    "\n",
    "<hr style=\"height:1px\">  "
   ]
  },
  {
   "cell_type": "markdown",
   "metadata": {},
   "source": [
    "- #### Random Forest Classifier"
   ]
  },
  {
   "cell_type": "code",
   "execution_count": 46,
   "metadata": {},
   "outputs": [
    {
     "name": "stdout",
     "output_type": "stream",
     "text": [
      "Accuracy score   0.99\n",
      "\n",
      "cross validation score:   0.77\n"
     ]
    }
   ],
   "source": [
    "forest_model = RandomForestClassifier(\n",
    "    #n_estimators = 8,\n",
    "    #max_depth = 8,\n",
    ").fit(X, y)\n",
    "\n",
    "#predictions on train set\n",
    "forest_y_pred = forest_model.predict(X)\n",
    "\n",
    "#calculate accuracy score on train set\n",
    "print(\"Accuracy score {:6.2f}\".format(accuracy_score(forest_y_pred, y)))\n",
    "\n",
    "#use cross validation\n",
    "forest_scores = cross_val_score(forest_model, X, y, cv = 10)\n",
    "#print(\"\\ncross validation scores:\\n\", tree_scores)\n",
    "print(\"\\ncross validation score: {:6.2f}\".format(np.mean(forest_scores)))"
   ]
  },
  {
   "cell_type": "code",
   "execution_count": 47,
   "metadata": {},
   "outputs": [
    {
     "name": "stdout",
     "output_type": "stream",
     "text": [
      " 0.273, Credit_History\n",
      " 0.144, LoanAmount\n",
      " 0.139, ApplicantIncome\n",
      " 0.134, TotalIncome\n",
      "0.0982, CoapplicantIncome\n",
      " 0.044, Loan_Amount_Term\n",
      "0.0439, Dependents\n",
      "0.0301, Education\n",
      " 0.029, Property_Area\n",
      "0.0201, Married\n",
      " 0.015, Gender\n",
      "0.0144, Self_Employed\n",
      " 0.008, LoanAmountRange\n",
      "0.00677, TotalIncomeRange\n"
     ]
    },
    {
     "data": {
      "text/html": [
       "<div>\n",
       "<style scoped>\n",
       "    .dataframe tbody tr th:only-of-type {\n",
       "        vertical-align: middle;\n",
       "    }\n",
       "\n",
       "    .dataframe tbody tr th {\n",
       "        vertical-align: top;\n",
       "    }\n",
       "\n",
       "    .dataframe thead th {\n",
       "        text-align: right;\n",
       "    }\n",
       "</style>\n",
       "<table border=\"1\" class=\"dataframe\">\n",
       "  <thead>\n",
       "    <tr style=\"text-align: right;\">\n",
       "      <th></th>\n",
       "      <th>Gender</th>\n",
       "      <th>Married</th>\n",
       "      <th>Dependents</th>\n",
       "      <th>Education</th>\n",
       "      <th>Self_Employed</th>\n",
       "      <th>ApplicantIncome</th>\n",
       "      <th>CoapplicantIncome</th>\n",
       "      <th>LoanAmount</th>\n",
       "      <th>Loan_Amount_Term</th>\n",
       "      <th>Credit_History</th>\n",
       "      <th>Property_Area</th>\n",
       "      <th>TotalIncome</th>\n",
       "      <th>TotalIncomeRange</th>\n",
       "      <th>LoanAmountRange</th>\n",
       "    </tr>\n",
       "  </thead>\n",
       "  <tbody>\n",
       "    <tr>\n",
       "      <th>0</th>\n",
       "      <td>1</td>\n",
       "      <td>0</td>\n",
       "      <td>0</td>\n",
       "      <td>1</td>\n",
       "      <td>1</td>\n",
       "      <td>5849</td>\n",
       "      <td>0.0</td>\n",
       "      <td>128.0</td>\n",
       "      <td>360.0</td>\n",
       "      <td>1.0</td>\n",
       "      <td>0</td>\n",
       "      <td>5849.0</td>\n",
       "      <td>1</td>\n",
       "      <td>1</td>\n",
       "    </tr>\n",
       "    <tr>\n",
       "      <th>1</th>\n",
       "      <td>1</td>\n",
       "      <td>1</td>\n",
       "      <td>1</td>\n",
       "      <td>1</td>\n",
       "      <td>1</td>\n",
       "      <td>4583</td>\n",
       "      <td>1508.0</td>\n",
       "      <td>128.0</td>\n",
       "      <td>360.0</td>\n",
       "      <td>1.0</td>\n",
       "      <td>0</td>\n",
       "      <td>6091.0</td>\n",
       "      <td>1</td>\n",
       "      <td>1</td>\n",
       "    </tr>\n",
       "  </tbody>\n",
       "</table>\n",
       "</div>"
      ],
      "text/plain": [
       "   Gender  Married  Dependents  Education  Self_Employed  ApplicantIncome  \\\n",
       "0       1        0           0          1              1             5849   \n",
       "1       1        1           1          1              1             4583   \n",
       "\n",
       "   CoapplicantIncome  LoanAmount  Loan_Amount_Term  Credit_History  \\\n",
       "0                0.0       128.0             360.0             1.0   \n",
       "1             1508.0       128.0             360.0             1.0   \n",
       "\n",
       "   Property_Area  TotalIncome  TotalIncomeRange  LoanAmountRange  \n",
       "0              0       5849.0                 1                1  \n",
       "1              0       6091.0                 1                1  "
      ]
     },
     "execution_count": 47,
     "metadata": {},
     "output_type": "execute_result"
    }
   ],
   "source": [
    "for feature, importance in sorted(\n",
    "    zip(forest_model.feature_importances_, loan_train_noid.columns), reverse=True):\n",
    "    print(\"{:6.3}, {}\".format(feature, importance))\n",
    "loan_train_noid.head(2)"
   ]
  },
  {
   "cell_type": "code",
   "execution_count": 48,
   "metadata": {},
   "outputs": [],
   "source": [
    "classifiers = ['LogisticRegression', \n",
    "               'SGDClassifier', 'SVC', \n",
    "               'KNeighborsClassifier', \n",
    "               'DecisionTreeClassifier',\n",
    "               'RandomForestClassifier'\n",
    "              ]\n",
    "train_scores, cv_scores = get_cross_validation_scores(X, y, classifiers=classifiers)\n",
    "\n",
    "train_scores = pd.Series(train_scores)\n",
    "cv_scores = pd.DataFrame(cv_scores)\n",
    "\n"
   ]
  },
  {
   "cell_type": "markdown",
   "metadata": {},
   "source": [
    "## Grid Search"
   ]
  },
  {
   "cell_type": "code",
   "execution_count": 49,
   "metadata": {},
   "outputs": [],
   "source": [
    "from sklearn.model_selection import GridSearchCV, RandomizedSearchCV\n",
    "from scipy.stats import randint\n",
    "\n",
    "#max_depth=None, min_samples_split=2, min_samples_leaf=1, min_weight_fraction_leaf=0.0, \n",
    "#max_features=None, random_state=None, max_leaf_nodes=None,\n",
    "#min_impurity_decrease=0.0, min_impurity_split=None, class_weight=None, presort=False\n",
    "\n",
    "params_grid = [{\n",
    "    'max_depth':[4, 5, 6, 7],\n",
    "    'min_samples_split':[2, 3, 4],\n",
    "    'min_samples_leaf':[1, 2, 3],\n",
    "    'max_features':[6, 7, 8, 10],\n",
    "    },\n",
    "    \n",
    "    {\n",
    "    'max_depth':[4, 5, 6, 7],\n",
    "    'min_samples_split':[2, 3, 4],\n",
    "    'min_samples_leaf':[1, 2, 3],\n",
    "    'max_features':[6, 7, 8, 10],\n",
    "    'class_weight':['balanced'],\n",
    "    },\n",
    "]\n",
    "\n",
    "#create an instance of the regressor\n",
    "tree = DecisionTreeClassifier(random_state=0)\n",
    "\n",
    "grid_search = GridSearchCV(tree, \n",
    "                            param_grid=params_grid, \n",
    "                            cv=5, \n",
    "                           )\n",
    "\n",
    "_ = grid_search.fit(X, y)"
   ]
  },
  {
   "cell_type": "code",
   "execution_count": 50,
   "metadata": {},
   "outputs": [
    {
     "name": "stdout",
     "output_type": "stream",
     "text": [
      "Best params:  {'max_depth': 4, 'max_features': 7, 'min_samples_leaf': 2, 'min_samples_split': 2}\n",
      "Best score:  0.8127035830618893\n"
     ]
    }
   ],
   "source": [
    "results = grid_search.cv_results_\n",
    "for mean_score, params in zip(results['mean_test_score'], results['params']):\n",
    "    #print(mean_score, params)\n",
    "    pass\n",
    "\n",
    "print(\"Best params: \", grid_search.best_params_)\n",
    "print(\"Best score: \", grid_search.best_score_)"
   ]
  },
  {
   "cell_type": "code",
   "execution_count": 51,
   "metadata": {},
   "outputs": [
    {
     "name": "stdout",
     "output_type": "stream",
     "text": [
      "Best params:\n",
      " {'max_depth': 3, 'max_features': 7, 'min_samples_leaf': 2, 'min_samples_split': 2}\n",
      "Best score:  0.8110749185667753\n"
     ]
    }
   ],
   "source": [
    "#RandomForest\n",
    "from sklearn.ensemble import RandomForestClassifier\n",
    "\n",
    "params_grid = {\n",
    "    'max_depth':[3, 4, 5, 6, 7],\n",
    "    'min_samples_split':[2, 3, 4],\n",
    "    'min_samples_leaf':[1, 2, 3],\n",
    "    'max_features':[6, 7, 8, 10],\n",
    "    }\n",
    "\n",
    "#create an instance of the regressor\n",
    "forest = RandomForestClassifier(random_state=0, class_weight = None)\n",
    "\n",
    "grid_search = GridSearchCV(forest, \n",
    "                            param_grid=params_grid, \n",
    "                            cv=5, \n",
    "                           )\n",
    "\n",
    "grid_search.fit(X, y)\n",
    "\n",
    "print(\"Best params:\\n\", grid_search.best_params_)\n",
    "print(\"Best score: \", grid_search.best_score_)"
   ]
  },
  {
   "cell_type": "markdown",
   "metadata": {},
   "source": [
    "## Create Submission"
   ]
  },
  {
   "cell_type": "code",
   "execution_count": 52,
   "metadata": {},
   "outputs": [
    {
     "name": "stdout",
     "output_type": "stream",
     "text": [
      "(367, 14)\n"
     ]
    }
   ],
   "source": [
    "df_test = loan_test.drop('Loan_ID', axis=1)\n",
    "\n",
    "#example of median imputation for LoanAmount\n",
    "#df_test['LoanAmount'].fillna(df_test['LoanAmount'].median(), inplace=True)\n",
    "\n",
    "categoric_features = list(df_test.dtypes[df_test.dtypes == 'object'].index)\n",
    "for feature in categoric_features:\n",
    "    df_test[feature].fillna(df_test[feature].mode()[0], inplace=True)\n",
    "    \n",
    "CustomEncoder(df_test)\n",
    "\n",
    "df_test['TotalIncome'] = df_test['ApplicantIncome'] + df_test['CoapplicantIncome']\n",
    "total_income_range = df_test['TotalIncome'] > 2500\n",
    "df_test['TotalIncomeRange'] = total_income_range.apply(int)\n",
    "\n",
    "#loan amount\n",
    "loan_amt_range = (df_test['LoanAmount'] <= 300) | (df_test['LoanAmount'] > 400)\n",
    "df_test['LoanAmountRange'] = loan_amt_range.apply(int)\n",
    "\n",
    "\n",
    "numeric_features = df_test.columns\n",
    "numeric_pipeline = Pipeline([\n",
    "    ('selector', DataFrameSelector(attribute_names = numeric_features)),\n",
    "    ('imputer', Imputer(strategy='mean')),\n",
    "    ('scaler', MinMaxScaler()),\n",
    "])\n",
    "\n",
    "X_test, categories = CombinedPipeline(df_test, numeric_pipeline, categoric_pipeline=None)\n",
    "print(X_test.shape)"
   ]
  },
  {
   "cell_type": "code",
   "execution_count": 53,
   "metadata": {},
   "outputs": [],
   "source": [
    "final_model = RandomForestClassifier(\n",
    "    max_depth = 3,\n",
    "    max_features = 7,\n",
    "    min_samples_leaf = 2,\n",
    "    min_samples_split = 2\n",
    ").fit(X, y)\n",
    "\n",
    "#predictions on train set\n",
    "pred_test = final_model.predict(X_test)"
   ]
  },
  {
   "cell_type": "code",
   "execution_count": 54,
   "metadata": {},
   "outputs": [
    {
     "data": {
      "text/html": [
       "<div>\n",
       "<style scoped>\n",
       "    .dataframe tbody tr th:only-of-type {\n",
       "        vertical-align: middle;\n",
       "    }\n",
       "\n",
       "    .dataframe tbody tr th {\n",
       "        vertical-align: top;\n",
       "    }\n",
       "\n",
       "    .dataframe thead th {\n",
       "        text-align: right;\n",
       "    }\n",
       "</style>\n",
       "<table border=\"1\" class=\"dataframe\">\n",
       "  <thead>\n",
       "    <tr style=\"text-align: right;\">\n",
       "      <th></th>\n",
       "      <th>Loan_ID</th>\n",
       "      <th>Loan_Status</th>\n",
       "    </tr>\n",
       "  </thead>\n",
       "  <tbody>\n",
       "    <tr>\n",
       "      <th>0</th>\n",
       "      <td>LP001015</td>\n",
       "      <td>1</td>\n",
       "    </tr>\n",
       "    <tr>\n",
       "      <th>1</th>\n",
       "      <td>LP001022</td>\n",
       "      <td>1</td>\n",
       "    </tr>\n",
       "    <tr>\n",
       "      <th>2</th>\n",
       "      <td>LP001031</td>\n",
       "      <td>1</td>\n",
       "    </tr>\n",
       "    <tr>\n",
       "      <th>3</th>\n",
       "      <td>LP001035</td>\n",
       "      <td>1</td>\n",
       "    </tr>\n",
       "    <tr>\n",
       "      <th>4</th>\n",
       "      <td>LP001051</td>\n",
       "      <td>1</td>\n",
       "    </tr>\n",
       "  </tbody>\n",
       "</table>\n",
       "</div>"
      ],
      "text/plain": [
       "    Loan_ID  Loan_Status\n",
       "0  LP001015            1\n",
       "1  LP001022            1\n",
       "2  LP001031            1\n",
       "3  LP001035            1\n",
       "4  LP001051            1"
      ]
     },
     "execution_count": 54,
     "metadata": {},
     "output_type": "execute_result"
    }
   ],
   "source": [
    "submission = pd.read_csv(\"data/Sample_Submission_ZAuTl8O_FK3zQHh.csv\")\n",
    "submission.Loan_ID = loan_test_original.Loan_ID\n",
    "submission.Loan_Status = pred_test\n",
    "submission.head()"
   ]
  },
  {
   "cell_type": "code",
   "execution_count": 55,
   "metadata": {},
   "outputs": [
    {
     "data": {
      "text/html": [
       "<div>\n",
       "<style scoped>\n",
       "    .dataframe tbody tr th:only-of-type {\n",
       "        vertical-align: middle;\n",
       "    }\n",
       "\n",
       "    .dataframe tbody tr th {\n",
       "        vertical-align: top;\n",
       "    }\n",
       "\n",
       "    .dataframe thead th {\n",
       "        text-align: right;\n",
       "    }\n",
       "</style>\n",
       "<table border=\"1\" class=\"dataframe\">\n",
       "  <thead>\n",
       "    <tr style=\"text-align: right;\">\n",
       "      <th></th>\n",
       "      <th>Loan_ID</th>\n",
       "      <th>Loan_Status</th>\n",
       "    </tr>\n",
       "  </thead>\n",
       "  <tbody>\n",
       "    <tr>\n",
       "      <th>0</th>\n",
       "      <td>LP001015</td>\n",
       "      <td>Y</td>\n",
       "    </tr>\n",
       "    <tr>\n",
       "      <th>1</th>\n",
       "      <td>LP001022</td>\n",
       "      <td>Y</td>\n",
       "    </tr>\n",
       "    <tr>\n",
       "      <th>2</th>\n",
       "      <td>LP001031</td>\n",
       "      <td>Y</td>\n",
       "    </tr>\n",
       "    <tr>\n",
       "      <th>3</th>\n",
       "      <td>LP001035</td>\n",
       "      <td>Y</td>\n",
       "    </tr>\n",
       "    <tr>\n",
       "      <th>4</th>\n",
       "      <td>LP001051</td>\n",
       "      <td>Y</td>\n",
       "    </tr>\n",
       "  </tbody>\n",
       "</table>\n",
       "</div>"
      ],
      "text/plain": [
       "    Loan_ID Loan_Status\n",
       "0  LP001015           Y\n",
       "1  LP001022           Y\n",
       "2  LP001031           Y\n",
       "3  LP001035           Y\n",
       "4  LP001051           Y"
      ]
     },
     "execution_count": 55,
     "metadata": {},
     "output_type": "execute_result"
    }
   ],
   "source": [
    "submission['Loan_Status'].replace(1,'Y', inplace=True)\n",
    "submission['Loan_Status'].replace(0,'N', inplace=True)\n",
    "submission.head()"
   ]
  },
  {
   "cell_type": "code",
   "execution_count": 56,
   "metadata": {},
   "outputs": [],
   "source": [
    "import datetime\n",
    "name = \"Loan_Prediction_Submission_\"+datetime.datetime.today().strftime('%Y%m%d')+\".csv\"\n",
    "submission.to_csv(name, index=False)"
   ]
  },
  {
   "cell_type": "code",
   "execution_count": 57,
   "metadata": {},
   "outputs": [],
   "source": [
    "import data_selector "
   ]
  },
  {
   "cell_type": "code",
   "execution_count": null,
   "metadata": {},
   "outputs": [],
   "source": []
  },
  {
   "cell_type": "code",
   "execution_count": 58,
   "metadata": {},
   "outputs": [],
   "source": [
    "data_type = ['category', 'dtype']\n",
    "selector = data_selector.DataFrameSelector(data_type=data_type)"
   ]
  },
  {
   "cell_type": "code",
   "execution_count": 59,
   "metadata": {},
   "outputs": [
    {
     "data": {
      "text/plain": [
       "DataFrameSelector(data_type=['category', 'dtype'])"
      ]
     },
     "execution_count": 59,
     "metadata": {},
     "output_type": "execute_result"
    }
   ],
   "source": [
    "selector.fit(loan_train_original)"
   ]
  },
  {
   "cell_type": "code",
   "execution_count": 60,
   "metadata": {},
   "outputs": [],
   "source": [
    "x = selector.transform(loan_train_original)\n",
    "xc = selector.attribute_names"
   ]
  },
  {
   "cell_type": "code",
   "execution_count": 61,
   "metadata": {},
   "outputs": [
    {
     "data": {
      "text/plain": [
       "Loan_ID          object\n",
       "Gender           object\n",
       "Married          object\n",
       "Dependents       object\n",
       "Education        object\n",
       "Self_Employed    object\n",
       "Property_Area    object\n",
       "Loan_Status      object\n",
       "dtype: object"
      ]
     },
     "execution_count": 61,
     "metadata": {},
     "output_type": "execute_result"
    }
   ],
   "source": [
    "xd = pd.DataFrame(x, columns=xc)\n",
    "xd.dtypes"
   ]
  },
  {
   "cell_type": "code",
   "execution_count": 62,
   "metadata": {},
   "outputs": [],
   "source": [
    "classifiers = ['LogisticRegression', \n",
    "               'SGDClassifier', 'SVC', \n",
    "               'KNeighborsClassifier', \n",
    "               'DecisionTreeClassifier',\n",
    "               'RandomForestClassifier'\n",
    "              ]\n",
    "train_scores, cv_scores = get_cross_validation_scores(X, y, classifiers=classifiers)"
   ]
  },
  {
   "cell_type": "code",
   "execution_count": 63,
   "metadata": {},
   "outputs": [
    {
     "data": {
      "text/plain": [
       "LogisticRegression        0.809446\n",
       "SGDClassifier             0.809446\n",
       "SVC                       0.809446\n",
       "KNeighborsClassifier      0.827362\n",
       "DecisionTreeClassifier    1.000000\n",
       "RandomForestClassifier    0.990228\n",
       "dtype: float64"
      ]
     },
     "execution_count": 63,
     "metadata": {},
     "output_type": "execute_result"
    }
   ],
   "source": [
    "train_scores = pd.Series(train_scores)\n",
    "cv_scores = pd.DataFrame(cv_scores)\n",
    "train_scores"
   ]
  },
  {
   "cell_type": "code",
   "execution_count": 64,
   "metadata": {},
   "outputs": [
    {
     "data": {
      "image/png": "[encoded data removed]",
      "text/plain": [
       "<Figure size 1008x432 with 2 Axes>"
      ]
     },
     "metadata": {},
     "output_type": "display_data"
    }
   ],
   "source": [
    "#cv_scores.columns = ['LR', 'SGD', 'SVC', 'KNN', 'DTree', 'RF']\n",
    "fig = plt.figure(figsize=(14,6))\n",
    "ax1 = fig.add_subplot(121)\n",
    "train_scores.plot(kind='bar', ax=ax1, title='Accuracy Score on Train Set')\n",
    "\n",
    "ax2 = fig.add_subplot(122)\n",
    "_ = cv_scores.plot(kind='box', showmeans=True, rot=90, ax=ax2, title='Accuracy Score Cross Validation')"
   ]
  }
 ],
 "metadata": {
  "kernelspec": {
   "display_name": "Python 3",
   "language": "python",
   "name": "python3"
  },
  "language_info": {
   "codemirror_mode": {
    "name": "ipython",
    "version": 3
   },
   "file_extension": ".py",
   "mimetype": "text/x-python",
   "name": "python",
   "nbconvert_exporter": "python",
   "pygments_lexer": "ipython3",
   "version": "3.6.7"
  }
 },
 "nbformat": 4,
 "nbformat_minor": 2
}
